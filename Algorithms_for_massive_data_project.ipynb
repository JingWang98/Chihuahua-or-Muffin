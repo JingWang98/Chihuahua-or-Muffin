{
  "nbformat": 4,
  "nbformat_minor": 0,
  "metadata": {
    "colab": {
      "provenance": [],
      "authorship_tag": "ABX9TyMFhMPuBkeCdEZ1kaYoQBJ5",
      "include_colab_link": true
    },
    "kernelspec": {
      "name": "python3",
      "display_name": "Python 3"
    },
    "language_info": {
      "name": "python"
    }
  },
  "cells": [
    {
      "cell_type": "markdown",
      "metadata": {
        "id": "view-in-github",
        "colab_type": "text"
      },
      "source": [
        "<a href=\"https://colab.research.google.com/github/JingWang98/Chihuahua-or-Muffin/blob/main/Algorithms_for_massive_data_project.ipynb\" target=\"_parent\"><img src=\"https://colab.research.google.com/assets/colab-badge.svg\" alt=\"Open In Colab\"/></a>"
      ]
    },
    {
      "cell_type": "markdown",
      "source": [
        "Market Basket Analysis (Algorithms for Massive Data Project)\n",
        "\n",
        "Author: Jing Wang\n",
        "\n",
        "A.Y. 2023-2024"
      ],
      "metadata": {
        "id": "o_IHAFG2NPyc"
      }
    },
    {
      "cell_type": "code",
      "source": [
        "!pip install pyspark\n",
        "import pyspark\n",
        "\n",
        "from itertools import combinations\n",
        "import os\n",
        "from pyspark.sql import SparkSession\n",
        "from pyspark.sql.functions import max\n",
        "from pyspark.sql.functions import min\n",
        "from pyspark.sql import functions as F\n",
        "import heapq\n",
        "import matplotlib.pyplot as plt"
      ],
      "metadata": {
        "id": "Y9oiRSdHNhXS",
        "colab": {
          "base_uri": "https://localhost:8080/"
        },
        "collapsed": true,
        "outputId": "e719dbaf-d987-4435-a833-3f0191087dde"
      },
      "execution_count": 1,
      "outputs": [
        {
          "output_type": "stream",
          "name": "stdout",
          "text": [
            "Collecting pyspark\n",
            "  Downloading pyspark-3.5.2.tar.gz (317.3 MB)\n",
            "\u001b[2K     \u001b[90m━━━━━━━━━━━━━━━━━━━━━━━━━━━━━━━━━━━━━━━━\u001b[0m \u001b[32m317.3/317.3 MB\u001b[0m \u001b[31m4.6 MB/s\u001b[0m eta \u001b[36m0:00:00\u001b[0m\n",
            "\u001b[?25h  Preparing metadata (setup.py) ... \u001b[?25l\u001b[?25hdone\n",
            "Requirement already satisfied: py4j==0.10.9.7 in /usr/local/lib/python3.10/dist-packages (from pyspark) (0.10.9.7)\n",
            "Building wheels for collected packages: pyspark\n",
            "  Building wheel for pyspark (setup.py) ... \u001b[?25l\u001b[?25hdone\n",
            "  Created wheel for pyspark: filename=pyspark-3.5.2-py2.py3-none-any.whl size=317812365 sha256=c792bd6909e0c00a3f94f232730e6a15737ca7ce0d9c76980ea70a811a5c2e7d\n",
            "  Stored in directory: /root/.cache/pip/wheels/34/34/bd/03944534c44b677cd5859f248090daa9fb27b3c8f8e5f49574\n",
            "Successfully built pyspark\n",
            "Installing collected packages: pyspark\n",
            "Successfully installed pyspark-3.5.2\n"
          ]
        }
      ]
    },
    {
      "cell_type": "code",
      "source": [
        "# connect to kaggle using credentials\n",
        "os.environ['KAGGLE_USERNAME'] = 'xxxxxx'\n",
        "os.environ['KAGGLE_KEY'] = 'xxxxxx'\n",
        "\n",
        "# download the dataset\n",
        "!kaggle datasets download -d asaniczka/1-3m-linkedin-jobs-and-skills-2024\n",
        "\n",
        "# dataset unzip\n",
        "!unzip 1-3m-linkedin-jobs-and-skills-2024.zip -d data"
      ],
      "metadata": {
        "id": "d2g4MxCgOckj",
        "colab": {
          "base_uri": "https://localhost:8080/"
        },
        "outputId": "ef05d39d-187e-4f00-ff5c-3a22e1795ddb"
      },
      "execution_count": 2,
      "outputs": [
        {
          "output_type": "stream",
          "name": "stdout",
          "text": [
            "Dataset URL: https://www.kaggle.com/datasets/asaniczka/1-3m-linkedin-jobs-and-skills-2024\n",
            "License(s): ODC Attribution License (ODC-By)\n",
            "Downloading 1-3m-linkedin-jobs-and-skills-2024.zip to /content\n",
            " 99% 1.86G/1.88G [00:21<00:00, 134MB/s]\n",
            "100% 1.88G/1.88G [00:21<00:00, 91.7MB/s]\n",
            "Archive:  1-3m-linkedin-jobs-and-skills-2024.zip\n",
            "  inflating: data/job_skills.csv     \n",
            "  inflating: data/job_summary.csv    \n",
            "  inflating: data/linkedin_job_postings.csv  \n"
          ]
        }
      ]
    },
    {
      "cell_type": "markdown",
      "source": [
        "Initialize PySpark session"
      ],
      "metadata": {
        "id": "pMA-qW66UHD1"
      }
    },
    {
      "cell_type": "code",
      "source": [
        "spark = SparkSession.builder.appName(\"Apriori\").getOrCreate()"
      ],
      "metadata": {
        "id": "JrSOkiGUK2dV"
      },
      "execution_count": 3,
      "outputs": []
    },
    {
      "cell_type": "code",
      "source": [
        "df = spark.read.csv(\"/content/data/job_skills.csv\", header = True,sep=\",\")\n",
        "df.show()"
      ],
      "metadata": {
        "id": "mi5Fj2jmRmnM",
        "colab": {
          "base_uri": "https://localhost:8080/"
        },
        "outputId": "69be1660-c577-472a-8091-842b67a69056"
      },
      "execution_count": 4,
      "outputs": [
        {
          "output_type": "stream",
          "name": "stdout",
          "text": [
            "+--------------------+--------------------+\n",
            "|            job_link|          job_skills|\n",
            "+--------------------+--------------------+\n",
            "|https://www.linke...|Building Custodia...|\n",
            "|https://www.linke...|Customer service,...|\n",
            "|https://www.linke...|Applied Behavior ...|\n",
            "|https://www.linke...|Electrical Engine...|\n",
            "|https://www.linke...|Electrical Assemb...|\n",
            "|https://www.linke...|Access Control, V...|\n",
            "|https://www.linke...|Consultation, Sup...|\n",
            "|https://www.linke...|Veterinary Recept...|\n",
            "|https://www.linke...|Optical Inspectio...|\n",
            "|https://www.linke...|HVAC, troubleshoo...|\n",
            "|https://www.linke...|Host/Server Assis...|\n",
            "|https://www.linke...|Apartment mainten...|\n",
            "|https://www.linke...|Fiber Optic Cable...|\n",
            "|https://www.linke...|CT Technologist, ...|\n",
            "|https://ca.linked...|SAP, DRMIS, Data ...|\n",
            "|https://www.linke...|Debt and equity o...|\n",
            "|https://ca.linked...|Biomedical Engine...|\n",
            "|https://www.linke...|Laboratory Techni...|\n",
            "|https://www.linke...|Program Managemen...|\n",
            "|https://www.linke...|Hiring, Training,...|\n",
            "+--------------------+--------------------+\n",
            "only showing top 20 rows\n",
            "\n"
          ]
        }
      ]
    },
    {
      "cell_type": "code",
      "source": [
        "df.printSchema() # check for null value"
      ],
      "metadata": {
        "id": "1f7tAUC-5pD6",
        "colab": {
          "base_uri": "https://localhost:8080/"
        },
        "outputId": "889d6358-62d7-4007-e506-b1014bde8565"
      },
      "execution_count": 5,
      "outputs": [
        {
          "output_type": "stream",
          "name": "stdout",
          "text": [
            "root\n",
            " |-- job_link: string (nullable = true)\n",
            " |-- job_skills: string (nullable = true)\n",
            "\n"
          ]
        }
      ]
    },
    {
      "cell_type": "code",
      "source": [
        "df.describe().show()"
      ],
      "metadata": {
        "id": "DWt1iSUd5r1T",
        "colab": {
          "base_uri": "https://localhost:8080/"
        },
        "outputId": "b9031a9c-5418-4167-be3c-7db551180179"
      },
      "execution_count": 6,
      "outputs": [
        {
          "output_type": "stream",
          "name": "stdout",
          "text": [
            "+-------+--------------------+-------------------------------+\n",
            "|summary|            job_link|                     job_skills|\n",
            "+-------+--------------------+-------------------------------+\n",
            "|  count|             1296381|                        1294374|\n",
            "|   mean|                NULL|                           NULL|\n",
            "| stddev|                NULL|                           NULL|\n",
            "|    min|https://ae.linked...|           \"* Maintenance, *...|\n",
            "|    max|https://za.linked...|志愿服务, 沟通, 陪伴, 临终服...|\n",
            "+-------+--------------------+-------------------------------+\n",
            "\n"
          ]
        }
      ]
    },
    {
      "cell_type": "code",
      "source": [
        "df = df.dropna()\n",
        "df_skills = df.select('job_skills')\n",
        "df_skills.show()"
      ],
      "metadata": {
        "id": "eQ5P-vpb3rD0",
        "colab": {
          "base_uri": "https://localhost:8080/"
        },
        "outputId": "403edf1e-f156-4674-b4c0-a8ed0929025c"
      },
      "execution_count": 7,
      "outputs": [
        {
          "output_type": "stream",
          "name": "stdout",
          "text": [
            "+--------------------+\n",
            "|          job_skills|\n",
            "+--------------------+\n",
            "|Building Custodia...|\n",
            "|Customer service,...|\n",
            "|Applied Behavior ...|\n",
            "|Electrical Engine...|\n",
            "|Electrical Assemb...|\n",
            "|Access Control, V...|\n",
            "|Consultation, Sup...|\n",
            "|Veterinary Recept...|\n",
            "|Optical Inspectio...|\n",
            "|HVAC, troubleshoo...|\n",
            "|Host/Server Assis...|\n",
            "|Apartment mainten...|\n",
            "|Fiber Optic Cable...|\n",
            "|CT Technologist, ...|\n",
            "|SAP, DRMIS, Data ...|\n",
            "|Debt and equity o...|\n",
            "|Biomedical Engine...|\n",
            "|Laboratory Techni...|\n",
            "|Program Managemen...|\n",
            "|Hiring, Training,...|\n",
            "+--------------------+\n",
            "only showing top 20 rows\n",
            "\n"
          ]
        }
      ]
    },
    {
      "cell_type": "code",
      "source": [
        "df_with_counts = df_skills.withColumn(\"counts\", F.size(F.split(F.col(\"job_skills\"), \",\")))\n",
        "\n",
        "# Show the result\n",
        "df_with_counts.show()"
      ],
      "metadata": {
        "id": "d9D1Grm7-LvZ",
        "colab": {
          "base_uri": "https://localhost:8080/"
        },
        "outputId": "fe2e4928-b8e7-43e8-dc8b-6dc30515b036"
      },
      "execution_count": 8,
      "outputs": [
        {
          "output_type": "stream",
          "name": "stdout",
          "text": [
            "+--------------------+------+\n",
            "|          job_skills|counts|\n",
            "+--------------------+------+\n",
            "|Building Custodia...|    14|\n",
            "|Customer service,...|    19|\n",
            "|Applied Behavior ...|    20|\n",
            "|Electrical Engine...|    35|\n",
            "|Electrical Assemb...|    11|\n",
            "|Access Control, V...|    19|\n",
            "|Consultation, Sup...|    29|\n",
            "|Veterinary Recept...|    22|\n",
            "|Optical Inspectio...|    17|\n",
            "|HVAC, troubleshoo...|     9|\n",
            "|Host/Server Assis...|    29|\n",
            "|Apartment mainten...|    19|\n",
            "|Fiber Optic Cable...|    16|\n",
            "|CT Technologist, ...|    11|\n",
            "|SAP, DRMIS, Data ...|    19|\n",
            "|Debt and equity o...|    27|\n",
            "|Biomedical Engine...|    18|\n",
            "|Laboratory Techni...|    28|\n",
            "|Program Managemen...|    23|\n",
            "|Hiring, Training,...|    33|\n",
            "+--------------------+------+\n",
            "only showing top 20 rows\n",
            "\n"
          ]
        }
      ]
    },
    {
      "cell_type": "code",
      "source": [
        "max_count = df_with_counts.select(max('counts')).collect()[0][0]\n",
        "max_rows = df_with_counts.filter(df_with_counts['counts'] == max_count)\n",
        "max_rows.show()"
      ],
      "metadata": {
        "id": "YOjjjgXsPqX9",
        "colab": {
          "base_uri": "https://localhost:8080/"
        },
        "outputId": "7193f01c-ce41-420f-ccee-c0fbe2776553"
      },
      "execution_count": 41,
      "outputs": [
        {
          "output_type": "stream",
          "name": "stdout",
          "text": [
            "+--------------------+------+\n",
            "|          job_skills|counts|\n",
            "+--------------------+------+\n",
            "|Clinical Manageme...|   463|\n",
            "+--------------------+------+\n",
            "\n"
          ]
        }
      ]
    },
    {
      "cell_type": "markdown",
      "source": [
        "if each row reresents a job position, i want to see the average number of skills for each job"
      ],
      "metadata": {
        "id": "RrZm-cw__-VJ"
      }
    },
    {
      "cell_type": "code",
      "source": [
        "total_sum = df_with_counts.agg(F.sum(\"counts\").alias(\"total_sum\")).collect()[0][\"total_sum\"]\n",
        "num_rows = df.count()\n",
        "average = total_sum / num_rows\n",
        "print(f\"Average number of skills required by each job: {average}\")\n"
      ],
      "metadata": {
        "id": "E2nD15L2_SEq",
        "colab": {
          "base_uri": "https://localhost:8080/"
        },
        "outputId": "4e6ad885-b11f-47fc-bada-7f189259de73"
      },
      "execution_count": 10,
      "outputs": [
        {
          "output_type": "stream",
          "name": "stdout",
          "text": [
            "Average number of skills required by each job: 20.789084144149992\n"
          ]
        }
      ]
    },
    {
      "cell_type": "markdown",
      "source": [
        "Sample the data"
      ],
      "metadata": {
        "id": "RGwv7xENAeNp"
      }
    },
    {
      "cell_type": "code",
      "source": [
        "sample = df_skills.sample(False,0.01,seed=123)\n",
        "sample.show()\n",
        "sample.count()"
      ],
      "metadata": {
        "id": "fHFaJcbtAUO0",
        "colab": {
          "base_uri": "https://localhost:8080/"
        },
        "outputId": "bfe0a723-b4d6-4aa1-b9be-591ac2ac55bc"
      },
      "execution_count": 11,
      "outputs": [
        {
          "output_type": "stream",
          "name": "stdout",
          "text": [
            "+--------------------+\n",
            "|          job_skills|\n",
            "+--------------------+\n",
            "|Service Mentality...|\n",
            "|ECE units, Teachi...|\n",
            "|Quantity Surveyin...|\n",
            "|CDL B, Truck driv...|\n",
            "|Accounting, Night...|\n",
            "|Safety, Quality, ...|\n",
            "|Food Safety Stand...|\n",
            "|Refrigeration uni...|\n",
            "|Skills Frameworks...|\n",
            "|Military enlistme...|\n",
            "|Customer service,...|\n",
            "|Statistical Analy...|\n",
            "|Clinical Care, Nu...|\n",
            "|Communication, Cu...|\n",
            "|Housekeeping, Cus...|\n",
            "|Financial Analysi...|\n",
            "|Automotive Servic...|\n",
            "|ATSM, AAI, Phase ...|\n",
            "|Administrative As...|\n",
            "|Tax preparation, ...|\n",
            "+--------------------+\n",
            "only showing top 20 rows\n",
            "\n"
          ]
        },
        {
          "output_type": "execute_result",
          "data": {
            "text/plain": [
              "12851"
            ]
          },
          "metadata": {},
          "execution_count": 11
        }
      ]
    },
    {
      "cell_type": "code",
      "source": [
        "rdd = sample.rdd\n",
        "rdd.first()"
      ],
      "metadata": {
        "id": "yVhdZzgJBEyi",
        "colab": {
          "base_uri": "https://localhost:8080/"
        },
        "outputId": "d498f0f7-34b1-45b5-a439-13e7b6106dc4"
      },
      "execution_count": 12,
      "outputs": [
        {
          "output_type": "execute_result",
          "data": {
            "text/plain": [
              "Row(job_skills='Service Mentality, Attention to Detail, Sense of Urgency, Initiative, Flexibility, Logic, Problemsolving, Customer service, Tact, Professionalism, HIPAA, PHI, Federal and state laws, Strong service mentality, Telephone etiquette, Personal etiquette, Warm, Positive, Energetic, Professional, Oral communication, Written communication, Tactful communication, Diplomatic communication, Personnel recruitment, Performance management, Performance assessment, Selfdevelopment, Proficient in computer applications, Word, Excel, Coordinating, Prioritizing, Multitasking, Opportunity identification, Plan of action development, Plan implementation, Plan evaluation, Conflict resolution, 401(k) Retirement Plan, Medical Plan, Vision Plan, Prescription Plan, Telehealth Plan, Dental Plan, Life and Disability Insurance, Paid Time Off, Extended Illness Days, Colleague Referral Bonus, Tuition Reimbursement, Commuter Benefits, Dependent Care Spending Account, Employee Discounts')"
            ]
          },
          "metadata": {},
          "execution_count": 12
        }
      ]
    },
    {
      "cell_type": "markdown",
      "source": [
        "Retrieve the number of partitions of the RDD"
      ],
      "metadata": {
        "id": "lFzI_i8UbZC1"
      }
    },
    {
      "cell_type": "code",
      "source": [
        "num_partitions = rdd.getNumPartitions()\n",
        "print(num_partitions)"
      ],
      "metadata": {
        "id": "wCpvJQ7_BxBf",
        "colab": {
          "base_uri": "https://localhost:8080/"
        },
        "outputId": "1905d0e6-3b2e-4cf3-ec31-bf6b3a931713"
      },
      "execution_count": 13,
      "outputs": [
        {
          "output_type": "stream",
          "name": "stdout",
          "text": [
            "6\n"
          ]
        }
      ]
    },
    {
      "cell_type": "code",
      "source": [
        "rdd_new = rdd.map(lambda x: x[0])\n",
        "rdd_new.first()"
      ],
      "metadata": {
        "id": "KXkPN1hZCaG9",
        "colab": {
          "base_uri": "https://localhost:8080/",
          "height": 137
        },
        "outputId": "9b2ba505-d936-49e4-c01f-f58fd1960b16"
      },
      "execution_count": 14,
      "outputs": [
        {
          "output_type": "execute_result",
          "data": {
            "text/plain": [
              "'Service Mentality, Attention to Detail, Sense of Urgency, Initiative, Flexibility, Logic, Problemsolving, Customer service, Tact, Professionalism, HIPAA, PHI, Federal and state laws, Strong service mentality, Telephone etiquette, Personal etiquette, Warm, Positive, Energetic, Professional, Oral communication, Written communication, Tactful communication, Diplomatic communication, Personnel recruitment, Performance management, Performance assessment, Selfdevelopment, Proficient in computer applications, Word, Excel, Coordinating, Prioritizing, Multitasking, Opportunity identification, Plan of action development, Plan implementation, Plan evaluation, Conflict resolution, 401(k) Retirement Plan, Medical Plan, Vision Plan, Prescription Plan, Telehealth Plan, Dental Plan, Life and Disability Insurance, Paid Time Off, Extended Illness Days, Colleague Referral Bonus, Tuition Reimbursement, Commuter Benefits, Dependent Care Spending Account, Employee Discounts'"
            ],
            "application/vnd.google.colaboratory.intrinsic+json": {
              "type": "string"
            }
          },
          "metadata": {},
          "execution_count": 14
        }
      ]
    },
    {
      "cell_type": "code",
      "source": [
        "baskets = rdd_new.map(lambda line: line.split(', '))\n",
        "baskets.first()"
      ],
      "metadata": {
        "id": "fP7nVuF4DYWG",
        "colab": {
          "base_uri": "https://localhost:8080/"
        },
        "outputId": "453afe77-fac4-4ded-cfc5-f68ae639eb75"
      },
      "execution_count": 15,
      "outputs": [
        {
          "output_type": "execute_result",
          "data": {
            "text/plain": [
              "['Service Mentality',\n",
              " 'Attention to Detail',\n",
              " 'Sense of Urgency',\n",
              " 'Initiative',\n",
              " 'Flexibility',\n",
              " 'Logic',\n",
              " 'Problemsolving',\n",
              " 'Customer service',\n",
              " 'Tact',\n",
              " 'Professionalism',\n",
              " 'HIPAA',\n",
              " 'PHI',\n",
              " 'Federal and state laws',\n",
              " 'Strong service mentality',\n",
              " 'Telephone etiquette',\n",
              " 'Personal etiquette',\n",
              " 'Warm',\n",
              " 'Positive',\n",
              " 'Energetic',\n",
              " 'Professional',\n",
              " 'Oral communication',\n",
              " 'Written communication',\n",
              " 'Tactful communication',\n",
              " 'Diplomatic communication',\n",
              " 'Personnel recruitment',\n",
              " 'Performance management',\n",
              " 'Performance assessment',\n",
              " 'Selfdevelopment',\n",
              " 'Proficient in computer applications',\n",
              " 'Word',\n",
              " 'Excel',\n",
              " 'Coordinating',\n",
              " 'Prioritizing',\n",
              " 'Multitasking',\n",
              " 'Opportunity identification',\n",
              " 'Plan of action development',\n",
              " 'Plan implementation',\n",
              " 'Plan evaluation',\n",
              " 'Conflict resolution',\n",
              " '401(k) Retirement Plan',\n",
              " 'Medical Plan',\n",
              " 'Vision Plan',\n",
              " 'Prescription Plan',\n",
              " 'Telehealth Plan',\n",
              " 'Dental Plan',\n",
              " 'Life and Disability Insurance',\n",
              " 'Paid Time Off',\n",
              " 'Extended Illness Days',\n",
              " 'Colleague Referral Bonus',\n",
              " 'Tuition Reimbursement',\n",
              " 'Commuter Benefits',\n",
              " 'Dependent Care Spending Account',\n",
              " 'Employee Discounts']"
            ]
          },
          "metadata": {},
          "execution_count": 15
        }
      ]
    },
    {
      "cell_type": "code",
      "source": [
        "# Flatten the RDD\n",
        "RDD_F = baskets.flatMap(lambda line: line)\n",
        "\n",
        "RDD_F.first()"
      ],
      "metadata": {
        "id": "nzHQu4XDERH0",
        "colab": {
          "base_uri": "https://localhost:8080/",
          "height": 35
        },
        "outputId": "9d7890d3-4811-42e8-a0a6-b74ebc8d89e1"
      },
      "execution_count": 16,
      "outputs": [
        {
          "output_type": "execute_result",
          "data": {
            "text/plain": [
              "'Service Mentality'"
            ],
            "application/vnd.google.colaboratory.intrinsic+json": {
              "type": "string"
            }
          },
          "metadata": {},
          "execution_count": 16
        }
      ]
    },
    {
      "cell_type": "code",
      "source": [
        "# Count the total number of elements in the flattened RDD\n",
        "check_n_skills = RDD_F.count()\n",
        "\n",
        "print(f\"Total number of items: {check_n_skills}\")"
      ],
      "metadata": {
        "id": "HRZg79UMFJmB",
        "colab": {
          "base_uri": "https://localhost:8080/"
        },
        "outputId": "c1495209-d7bf-4ede-a327-9378833ac3b3"
      },
      "execution_count": 17,
      "outputs": [
        {
          "output_type": "stream",
          "name": "stdout",
          "text": [
            "Total number of items: 267561\n"
          ]
        }
      ]
    },
    {
      "cell_type": "code",
      "source": [
        "# Remove duplicate items\n",
        "RDD_F = RDD_F.distinct()\n",
        "\n",
        "# Count the total number of unique items\n",
        "U_skills = RDD_F.count()\n",
        "\n",
        "print(f\"Total number of unique items: {U_skills}\")"
      ],
      "metadata": {
        "id": "oEpVLcNGFfSH",
        "colab": {
          "base_uri": "https://localhost:8080/"
        },
        "outputId": "6c23524b-d14e-4d49-e6f0-9362eea8c031"
      },
      "execution_count": 18,
      "outputs": [
        {
          "output_type": "stream",
          "name": "stdout",
          "text": [
            "Total number of unique items: 99082\n"
          ]
        }
      ]
    },
    {
      "cell_type": "markdown",
      "source": [
        "Pair each element of the hash RDD with a unique index"
      ],
      "metadata": {
        "id": "Fb_rTTBIeTFE"
      }
    },
    {
      "cell_type": "code",
      "source": [
        "RDD_F = RDD_F.zipWithIndex()\n",
        "RDD_F.take(8)"
      ],
      "metadata": {
        "id": "gr2MTSGYFtwE",
        "colab": {
          "base_uri": "https://localhost:8080/"
        },
        "outputId": "06f39da2-da80-4103-8579-c0fcb00a74f3"
      },
      "execution_count": 19,
      "outputs": [
        {
          "output_type": "execute_result",
          "data": {
            "text/plain": [
              "[('Attention to Detail', 0),\n",
              " ('Logic', 1),\n",
              " ('Professionalism', 2),\n",
              " ('Professional', 3),\n",
              " ('Proficient in computer applications', 4),\n",
              " ('Excel', 5),\n",
              " ('Conflict resolution', 6),\n",
              " ('401(k) Retirement Plan', 7)]"
            ]
          },
          "metadata": {},
          "execution_count": 19
        }
      ]
    },
    {
      "cell_type": "code",
      "source": [
        "RDD_F_index = RDD_F.collectAsMap() # transforms an hash RDD of key-value pairs into a Python dictionary.\n",
        "RDD_F_index"
      ],
      "metadata": {
        "id": "qTEempW7Fx-M",
        "colab": {
          "base_uri": "https://localhost:8080/"
        },
        "collapsed": true,
        "outputId": "afb5b415-fbf7-498f-a637-2bd5542cede0"
      },
      "execution_count": 20,
      "outputs": [
        {
          "output_type": "execute_result",
          "data": {
            "text/plain": [
              "{'Attention to Detail': 0,\n",
              " 'Logic': 1,\n",
              " 'Professionalism': 2,\n",
              " 'Professional': 3,\n",
              " 'Proficient in computer applications': 4,\n",
              " 'Excel': 5,\n",
              " 'Conflict resolution': 6,\n",
              " '401(k) Retirement Plan': 7,\n",
              " 'Employee Discounts': 8,\n",
              " 'Project Management': 9,\n",
              " 'BlueBeam CAD': 10,\n",
              " 'Primavera': 11,\n",
              " 'AutoCAD': 12,\n",
              " 'Preemployment substance abuse screening': 13,\n",
              " 'Background check': 14,\n",
              " 'Night Auditing': 15,\n",
              " 'EEOC': 16,\n",
              " 'Contract negotiation': 17,\n",
              " '3+ years field supervision experience': 18,\n",
              " 'Dental benefits': 19,\n",
              " 'Equal opportunity employer': 20,\n",
              " 'Microsoft Office': 21,\n",
              " 'Physical Stamina': 22,\n",
              " 'Cleaning': 23,\n",
              " 'Shop tools': 24,\n",
              " 'Ability to work in nonclimate controlled environments': 25,\n",
              " 'Attention to detail': 26,\n",
              " 'Ability to follow safety regulations': 27,\n",
              " 'ASE Certification': 28,\n",
              " 'High school diploma or equivalent': 29,\n",
              " 'Ability to work flexible hours': 30,\n",
              " 'Army National Guard': 31,\n",
              " 'Shipping and receiving': 32,\n",
              " 'Storage and distribution': 33,\n",
              " 'Warehouse management': 34,\n",
              " 'Forklift operation': 35,\n",
              " 'Ability to lift up to 55 lbs.': 36,\n",
              " 'Problem solving': 37,\n",
              " 'Statistical Analysis': 38,\n",
              " 'Data Analysis': 39,\n",
              " 'Forecasting': 40,\n",
              " 'Predictive Analytics': 41,\n",
              " 'R': 42,\n",
              " 'Python': 43,\n",
              " 'Resource Management': 44,\n",
              " 'Attendance': 45,\n",
              " 'Housekeeping': 46,\n",
              " 'Financial Modeling': 47,\n",
              " 'ERP Systems': 48,\n",
              " 'Bonuses': 49,\n",
              " 'Paid Vacation': 50,\n",
              " 'Holidays': 51,\n",
              " 'Career Advancement': 52,\n",
              " 'Computer Skills': 53,\n",
              " 'Heavy equipment': 54,\n",
              " 'Vocational training': 55,\n",
              " 'Wellness Credit': 56,\n",
              " 'Dependent Care Assistance Program': 57,\n",
              " 'Paid Holidays': 58,\n",
              " 'Company Paid Basic Life and AD&D': 59,\n",
              " 'Tax planning': 60,\n",
              " 'Tax correspondence': 61,\n",
              " 'Computer skills': 62,\n",
              " '401(k) matching': 63,\n",
              " 'Health insurance': 64,\n",
              " 'Vision insurance': 65,\n",
              " 'Diagnostics': 66,\n",
              " 'Repair': 67,\n",
              " 'Brakes': 68,\n",
              " 'Tire installation': 69,\n",
              " 'Scheduled maintenance': 70,\n",
              " 'Automotive repairs': 71,\n",
              " 'Vehicle inspections': 72,\n",
              " 'ASE automotive certification': 73,\n",
              " 'Career Development': 74,\n",
              " 'Document Management Systems': 75,\n",
              " 'Mobile Device Management Systems': 76,\n",
              " 'Data Discovery': 77,\n",
              " 'Information Systems Management': 78,\n",
              " 'Information Management': 79,\n",
              " 'Information Governance Professional (IGP)': 80,\n",
              " 'Certified Information Privacy Professional (CIPP)': 81,\n",
              " 'Human Resources': 82,\n",
              " 'Critical Thinking': 83,\n",
              " 'MS/MA Degree': 84,\n",
              " 'FastPaced Environment': 85,\n",
              " 'Educational technology': 86,\n",
              " 'CSUSA knowledge': 87,\n",
              " 'Invoice Processing': 88,\n",
              " 'Invoicing': 89,\n",
              " 'Interpersonal Skills': 90,\n",
              " 'Reconciliations': 91,\n",
              " 'Cosmetology license': 92,\n",
              " 'Barber license': 93,\n",
              " 'Incentives': 94,\n",
              " 'Customer base': 95,\n",
              " 'Fleet Maintenance': 96,\n",
              " 'Vehicle Maintenance': 97,\n",
              " 'Psych': 98,\n",
              " '36/48 Rotating Hours': 99,\n",
              " 'Start date: 1/22 or 2/5': 100,\n",
              " 'Compact license': 101,\n",
              " 'Awards and recognition programs': 102,\n",
              " 'ASE certification': 103,\n",
              " 'Employee discounts': 104,\n",
              " 'Reception': 105,\n",
              " 'First Aid': 106,\n",
              " 'Online Digital Platforms': 107,\n",
              " 'Power BI': 108,\n",
              " 'Cost Cap Schedules': 109,\n",
              " 'Risk Assessment': 110,\n",
              " 'Travel for company and customer objectives': 111,\n",
              " '2+ years of experience as a Chemist (for advanced positions)': 112,\n",
              " 'Passport': 113,\n",
              " 'Learning and Development': 114,\n",
              " 'Keyboard Operation': 115,\n",
              " 'SAP': 116,\n",
              " 'Building customer relationships': 117,\n",
              " 'Fraud': 118,\n",
              " 'Financial accounts': 119,\n",
              " 'Powerpoint': 120,\n",
              " 'Lending enquiries': 121,\n",
              " 'Business development': 122,\n",
              " 'Strategy formulation': 123,\n",
              " 'Team and department meetings': 124,\n",
              " 'Knowledge sharing': 125,\n",
              " 'Continuous improvement': 126,\n",
              " 'Coaching': 127,\n",
              " 'Cash car allowance': 128,\n",
              " 'Noncontributory pension': 129,\n",
              " 'Income protection': 130,\n",
              " 'Private medical': 131,\n",
              " 'MS Project': 132,\n",
              " 'Timberline': 133,\n",
              " 'Client Development': 134,\n",
              " 'Research': 135,\n",
              " 'Ability to Travel': 136,\n",
              " 'ProjectWise': 137,\n",
              " 'Salesforce': 138,\n",
              " 'Call handling': 139,\n",
              " 'Payment processing': 140,\n",
              " 'Perform arithmetic ratios rates and percentages': 141,\n",
              " 'Associates degree or higher': 142,\n",
              " 'Safe shutdown procedures': 143,\n",
              " 'Forging experience': 144,\n",
              " 'Fluorescence microscopy': 145,\n",
              " 'Ordering reagents': 146,\n",
              " 'B.A. or B.S. in biological science or biochemistry': 147,\n",
              " 'Willingness to work with laboratory animals': 148,\n",
              " 'Project Information Software': 149,\n",
              " 'Contracts': 150,\n",
              " 'Building Types': 151,\n",
              " 'OSHA 10 Hour Certification': 152,\n",
              " 'Medical Devices': 153,\n",
              " 'Product Troubleshooting': 154,\n",
              " 'Product Training': 155,\n",
              " 'Sales Goals': 156,\n",
              " 'Interventional Radiology': 157,\n",
              " 'Relevant Technical Certification': 158,\n",
              " 'Executive Assistant': 159,\n",
              " 'Business acumen': 160,\n",
              " 'High Complexity Molecular Techniques': 161,\n",
              " 'OffSchedule Days': 162,\n",
              " 'ESPP': 163,\n",
              " 'Performance Evaluations': 164,\n",
              " 'Task Assignment': 165,\n",
              " 'Sales': 166,\n",
              " 'ShortTerm Disability': 167,\n",
              " 'Flexible Spending Accounts': 168,\n",
              " 'Customer focus': 169,\n",
              " 'Team performance': 170,\n",
              " 'Technical Writing': 171,\n",
              " 'Brakes System Architecture': 172,\n",
              " 'Legal Requirements': 173,\n",
              " 'Attribute Requirement Targets': 174,\n",
              " 'National Police Clearance': 175,\n",
              " 'Duration: Ongoing work': 176,\n",
              " 'Salary sacrificing options': 177,\n",
              " 'Team events  Golf Day paintball karting EMS family day': 178,\n",
              " 'Ability to maintain accurate and auditable records': 179,\n",
              " 'HCDE mission vision and values': 180,\n",
              " 'Board Agenda Submission System input and workflow forms': 181,\n",
              " 'Timeclock input and verification': 182,\n",
              " 'Procurement Card (Pcard) reconciliation': 183,\n",
              " 'Fastpaced environment': 184,\n",
              " 'Pricing Change Controls': 185,\n",
              " 'Billing Queries': 186,\n",
              " 'Open Book Accounting Audits': 187,\n",
              " 'Product Requirements Document': 188,\n",
              " 'Cohesive Strategic Technical Vision': 189,\n",
              " 'Client Services': 190,\n",
              " 'Market Demands': 191,\n",
              " 'Account Insight': 192,\n",
              " 'Big Data': 193,\n",
              " 'Microservices': 194,\n",
              " 'Recognition for Business Value': 195,\n",
              " 'Dental Coverage': 196,\n",
              " 'Personal/Family Care': 197,\n",
              " 'Leaves of Absence': 198,\n",
              " 'Transformative Leadership': 199,\n",
              " 'Affirmative Action Employer': 200,\n",
              " 'Quickbooks Online (QBO)': 201,\n",
              " 'Google Sheets': 202,\n",
              " 'Basic Software and Hardware Troubleshooting': 203,\n",
              " 'Equality and Diversity': 204,\n",
              " 'Basic IT Skills': 205,\n",
              " 'BLS Certification': 206,\n",
              " 'Care Coordination and Transition Management (CCTM)': 207,\n",
              " 'Marketing Solutions': 208,\n",
              " 'Client Relationships': 209,\n",
              " 'Marshall Marketing': 210,\n",
              " 'Media Sales Experience': 211,\n",
              " 'DLS': 212,\n",
              " 'ICH guidelines': 213,\n",
              " 'PCO': 214,\n",
              " 'GTS': 215,\n",
              " 'SAP Tools': 216,\n",
              " 'Testing': 217,\n",
              " 'Open house planning': 218,\n",
              " 'Email correspondence': 219,\n",
              " 'Reimbursements': 220,\n",
              " 'Program Design': 221,\n",
              " 'Elearning': 222,\n",
              " 'Training Materials': 223,\n",
              " 'Speaker Coordination': 224,\n",
              " 'Improvement': 225,\n",
              " 'Family Law': 226,\n",
              " 'Law': 227,\n",
              " 'Collections': 228,\n",
              " 'Detail Oriented': 229,\n",
              " 'Organizing': 230,\n",
              " '401K': 231,\n",
              " 'WorkLife Balance': 232,\n",
              " 'Domaindriven Design': 233,\n",
              " 'Kanban': 234,\n",
              " 'FDD': 235,\n",
              " 'Puppet': 236,\n",
              " 'KMS': 237,\n",
              " 'Secrets Manager': 238,\n",
              " 'Route 53': 239,\n",
              " 'Trusted Advisor': 240,\n",
              " 'Macie': 241,\n",
              " 'MultiFactor Authentication (MFA)': 242,\n",
              " 'Imperva': 243,\n",
              " 'Palo Alto Networks': 244,\n",
              " 'Cisco': 245,\n",
              " 'Warehouse Experience': 246,\n",
              " 'Nurses': 247,\n",
              " 'Teaching': 248,\n",
              " 'Ability to maintain a clean and safe work environment': 249,\n",
              " 'Account Management': 250,\n",
              " 'Home Office Environment': 251,\n",
              " 'Winning Attitude': 252,\n",
              " 'Close Out Reports': 253,\n",
              " 'Project and Multidisciplinary Activities': 254,\n",
              " 'Change Management Processes': 255,\n",
              " 'Legislation': 256,\n",
              " 'Safety Performance': 257,\n",
              " 'Work Scope Risks': 258,\n",
              " 'Engineering Consultants': 259,\n",
              " 'Project Team Development': 260,\n",
              " 'Property and Casualty Claims Handling': 261,\n",
              " 'Strong Analytical Skills': 262,\n",
              " 'Knowledge of Regulatory Requirements': 263,\n",
              " 'Sheffield Island Lighthouse': 264,\n",
              " 'Anesthesia': 265,\n",
              " '1099 financial consulting': 266,\n",
              " 'Medical Laboratory Technologist (MLT)': 267,\n",
              " 'Quality results': 268,\n",
              " 'Instrument troubleshooting': 269,\n",
              " \"Bachelor's Degree in Medical Lab Technology or Clinical Laboratory Science\": 270,\n",
              " 'Medical Technologist (MLT) license or certification': 271,\n",
              " 'TSP': 272,\n",
              " 'Color and contrast discernment': 273,\n",
              " 'Emergency overtime': 274,\n",
              " 'Drug testing': 275,\n",
              " 'SF50': 276,\n",
              " 'Instrument partner': 277,\n",
              " 'ASCP': 278,\n",
              " 'Sanitizing': 279,\n",
              " 'Vacuuming': 280,\n",
              " 'Political Savvy': 281,\n",
              " 'Expense Management': 282,\n",
              " 'Minute Taking': 283,\n",
              " 'Problem Solving Skills': 284,\n",
              " 'First Aid Qualification': 285,\n",
              " 'Snacks': 286,\n",
              " 'Proof of Right to Work in UK': 287,\n",
              " 'budget preparation': 288,\n",
              " 'SAP Analysis for Office (AO)': 289,\n",
              " \"Bachelor's degree in Accounting Finance Economics Business Administration\": 290,\n",
              " 'CPA/CMA (desirable)': 291,\n",
              " 'Priority management': 292,\n",
              " 'Communicate': 293,\n",
              " 'Advising': 294,\n",
              " 'Proactive interaction': 295,\n",
              " 'CPA': 296,\n",
              " 'Realtime PCR': 297,\n",
              " 'Prolonged standing': 298,\n",
              " 'Dispute Resolution': 299,\n",
              " 'LL.M. Degree in Tax': 300,\n",
              " 'Hematology': 301,\n",
              " 'Coagulation': 302,\n",
              " 'Medical Treatment Facility': 303,\n",
              " 'Reagent kits': 304,\n",
              " 'Competency training': 305,\n",
              " 'Preventive maintenance records': 306,\n",
              " 'Team Leadership': 307,\n",
              " 'PMP Certification': 308,\n",
              " 'Unit Supply Specialist': 309,\n",
              " 'Delivery': 310,\n",
              " 'Weapon Security': 311,\n",
              " 'Ammunition Security': 312,\n",
              " 'Warehouse Equipment Operation': 313,\n",
              " 'Parts Clerk': 314,\n",
              " 'Referrals': 315,\n",
              " 'IV Therapy': 316,\n",
              " 'Store management': 317,\n",
              " 'Safety guidelines': 318,\n",
              " 'Team environment': 319,\n",
              " 'Damaged merchandise processing': 320,\n",
              " 'Auditing': 321,\n",
              " 'NetSuite': 322,\n",
              " 'Restaurant style dining': 323,\n",
              " 'Safety requirements': 324,\n",
              " 'Client relationship management': 325,\n",
              " 'Strategic mindset': 326,\n",
              " '18 years of age or older': 327,\n",
              " 'Statement Reconciliation': 328,\n",
              " 'Ability to climb a ladder': 329,\n",
              " 'Early Childhood coursework': 330,\n",
              " 'Lifting 30 pounds': 331,\n",
              " 'Walking and standing': 332,\n",
              " 'Bending stooping and kneeling': 333,\n",
              " 'Exposure to weather conditions': 334,\n",
              " 'Driving and transportation': 335,\n",
              " 'Land Surveys': 336,\n",
              " 'Wildlife/ Critical Habitat': 337,\n",
              " 'Site Design Concept Documents': 338,\n",
              " 'Customer Relationship Management': 339,\n",
              " 'Part 145': 340,\n",
              " 'Concessions Operations': 341,\n",
              " 'Learning and development': 342,\n",
              " '2 years of experience in providing public information in animal nutrition care wellness and treatment': 343,\n",
              " 'Familiarity with dog training class offerings and the PCC’s dog training schedule': 344,\n",
              " 'Dissolution': 345,\n",
              " 'AA': 346,\n",
              " 'IR': 347,\n",
              " 'Microsoft Office (Word Excel PowerPoint)': 348,\n",
              " 'Laboratory Documentation': 349,\n",
              " '8 years of experience': 350,\n",
              " 'Hazardous Waste Training': 351,\n",
              " 'Company Policies': 352,\n",
              " 'Laboratory Equipment': 353,\n",
              " 'Technical support': 354,\n",
              " 'Claims adjudication': 355,\n",
              " 'Medication administration': 356,\n",
              " 'EMR': 357,\n",
              " 'OSHA': 358,\n",
              " 'Professional nursing': 359,\n",
              " 'Retail technology': 360,\n",
              " 'Food and Beverage Finance': 361,\n",
              " 'HVAC': 362,\n",
              " 'Ontime arrival': 363,\n",
              " 'Requisitioning and keeping inventory of tools equipment and materials': 364,\n",
              " 'Inspecting and monitoring work areas examining tools and equipment and providing safety training': 365,\n",
              " 'Directly supervising employees': 366,\n",
              " 'Interviewing hiring and training employees': 367,\n",
              " 'Rewarding and disciplining employees': 368,\n",
              " 'Addressing complaints and resolving problems': 369,\n",
              " 'HVAC industry technical knowledge': 370,\n",
              " 'Computer skills; competent in MS Office software (Word and Excel)': 371,\n",
              " 'Nights and weekends': 372,\n",
              " 'Bar equipment': 373,\n",
              " 'Vital Signs Monitoring': 374,\n",
              " 'Titmus Test': 375,\n",
              " 'Subcontractor Management': 376,\n",
              " 'Building Contracts': 377,\n",
              " 'Administrative tasks': 378,\n",
              " 'Storytelling': 379,\n",
              " 'Game Mechanics': 380,\n",
              " 'Video Production': 381,\n",
              " 'Understanding of Social Media KPIs': 382,\n",
              " 'Travel coordination': 383,\n",
              " 'Lateral thinking': 384,\n",
              " 'Insurance knowledge': 385,\n",
              " 'Commercial Lines': 386,\n",
              " 'Professional Liability': 387,\n",
              " 'Excess Coverage': 388,\n",
              " 'Performance improvement': 389,\n",
              " 'Marketing strategy': 390,\n",
              " 'Budgetary requirements': 391,\n",
              " 'Medical office meetings': 392,\n",
              " 'Personnel actions': 393,\n",
              " 'Physician practice management': 394,\n",
              " 'Electronic Medical Record (EMR)': 395,\n",
              " 'Banking transactions': 396,\n",
              " 'Bachelor’s degree in Accounting or related field': 397,\n",
              " 'Sales associate': 398,\n",
              " 'Vendor relationships': 399,\n",
              " 'Customer conversion': 400,\n",
              " 'Floorsets': 401,\n",
              " 'Department interviews': 402,\n",
              " 'Leave of Absence Program': 403,\n",
              " 'Unemployment Claims': 404,\n",
              " 'Loss prevention': 405,\n",
              " 'Data access': 406,\n",
              " 'Life': 407,\n",
              " 'Associate of the Month/Quarter & Companywide Associate of the Year Programs': 408,\n",
              " 'Safety Regulations': 409,\n",
              " 'Food Handler Certification (Per State Laws)': 410,\n",
              " 'Ability to perform duties with mental alertness': 411,\n",
              " 'Technicians': 412,\n",
              " 'English language (writing and reading)': 413,\n",
              " 'Sanitation and safety procedures': 414,\n",
              " 'Tax opinions': 415,\n",
              " 'Cover letter': 416,\n",
              " 'Room Operations': 417,\n",
              " 'General Management': 418,\n",
              " 'Technical Skills': 419,\n",
              " 'Tax Preparation': 420,\n",
              " 'Languages (beneficial)': 421,\n",
              " \"Valid driver's license\": 422,\n",
              " 'Ability to wear company uniforms': 423,\n",
              " 'GAAP': 424,\n",
              " 'Lasting Powers of Attorney': 425,\n",
              " 'Preparing Documents': 426,\n",
              " 'Salon Management': 427,\n",
              " 'Cosmetology License': 428,\n",
              " 'Stylist Experience': 429,\n",
              " 'Training Experience': 430,\n",
              " 'Instrumentation control': 431,\n",
              " 'National Electrical Code (NFPA70E)': 432,\n",
              " 'Aluminum Coil Processing': 433,\n",
              " 'Technical specifications': 434,\n",
              " 'ADA': 435,\n",
              " 'Distech': 436,\n",
              " 'SarbanesOxley compliance': 437,\n",
              " 'Microsoft Business Central': 438,\n",
              " 'Medical laboratory technician diploma': 439,\n",
              " 'Medical technology diploma': 440,\n",
              " 'Analytics': 441,\n",
              " 'Weld/braze': 442,\n",
              " 'Composites': 443,\n",
              " 'Manufacturing': 444,\n",
              " 'Radiography': 445,\n",
              " 'Surface mount technology': 446,\n",
              " 'Construction Foreman': 447,\n",
              " 'Coordination': 448,\n",
              " 'Power Tools': 449,\n",
              " 'Plywood': 450,\n",
              " 'Adverse Weather Conditions': 451,\n",
              " 'Wildlife biology': 452,\n",
              " 'Adhering to company policies': 453,\n",
              " 'Innovation': 454,\n",
              " 'GATD repair center/field service software': 455,\n",
              " 'Clinical background': 456,\n",
              " 'Board certification': 457,\n",
              " 'Business Activity Statements': 458,\n",
              " 'Financial statements': 459,\n",
              " 'MYOB AE AE Tax and Accounting': 460,\n",
              " 'Cash vs accruals basis of accounting': 461,\n",
              " 'Chartered accounting practice': 462,\n",
              " 'Wellbeing': 463,\n",
              " 'Subsidised charity activities': 464,\n",
              " 'High School education': 465,\n",
              " 'HSC or equivalent': 466,\n",
              " 'Board of Review certified': 467,\n",
              " 'Engage lead and motivate employees': 468,\n",
              " 'Field labor': 469,\n",
              " 'Biological surveys': 470,\n",
              " 'ArcGIS': 471,\n",
              " 'Wetland delineation': 472,\n",
              " 'Environmental impact analysis': 473,\n",
              " 'College Tuition Assistance': 474,\n",
              " 'Life and Accident Insurance': 475,\n",
              " 'Project conceptualization': 476,\n",
              " 'RN Temporary Permit': 477,\n",
              " 'RN Practitioner': 478,\n",
              " 'Dropbox': 479,\n",
              " 'Fringe benefits': 480,\n",
              " 'Independent work': 481,\n",
              " 'Interpersonal Savvy': 482,\n",
              " 'EvidenceBased Practice': 483,\n",
              " 'Infection Prevention Plan Development': 484,\n",
              " 'Infection Control Risk Assessments': 485,\n",
              " 'Data Presentation': 486,\n",
              " 'Employee Referral Program': 487,\n",
              " 'Medical Assistant Certification': 488,\n",
              " 'Clinical Duties': 489,\n",
              " 'Compliance with Tax Laws': 490,\n",
              " 'Tampa FL USA': 491,\n",
              " 'Catering': 492,\n",
              " 'BMI': 493,\n",
              " 'Physical examination': 494,\n",
              " 'Fixed Payment per inhome screening': 495,\n",
              " 'W2 position': 496,\n",
              " 'Administrative support services': 497,\n",
              " 'Policy compliance': 498,\n",
              " 'Software installation and maintenance': 499,\n",
              " 'SelfAwareness': 500,\n",
              " 'Goaloriented': 501,\n",
              " 'Intermediate Word Processing': 502,\n",
              " 'Intermediate Spreadsheet Applications': 503,\n",
              " 'Office Equipment': 504,\n",
              " 'Clerical Work': 505,\n",
              " 'Preventative Maintenance': 506,\n",
              " 'Work Order Management': 507,\n",
              " 'High School Diploma or GED (Preferred)': 508,\n",
              " 'Competitive Paid Time Off': 509,\n",
              " 'Discounted Rent at Properties Owned by ResProp Management': 510,\n",
              " 'Ability to Walk Stand Sit and Climb Stairs': 511,\n",
              " 'Fine dining': 512,\n",
              " 'Team oriented': 513,\n",
              " 'Selfdiscipline': 514,\n",
              " 'Cell Phone': 515,\n",
              " 'Medical Laboratory Technology': 516,\n",
              " 'Sample Collection and Preparation': 517,\n",
              " 'Laboratory Testing and Analysis': 518,\n",
              " 'Medical Technologist License': 519,\n",
              " 'Willingness to Be Trained': 520,\n",
              " 'Order taking': 521,\n",
              " 'Clinical Experience': 522,\n",
              " 'Articulate 360': 523,\n",
              " 'Learning Management System': 524,\n",
              " 'Ammunition movement': 525,\n",
              " 'Physical exam': 526,\n",
              " 'CPPO': 527,\n",
              " 'Profit and loss analysis': 528,\n",
              " 'Business meetings participation': 529,\n",
              " 'Information presentation': 530,\n",
              " 'Electrical Repair': 531,\n",
              " 'Painting': 532,\n",
              " 'Shop Equipment Usage': 533,\n",
              " 'Labor cost management': 534,\n",
              " 'Mechanical systems': 535,\n",
              " 'Scaffold materials': 536,\n",
              " 'Scaffold dismantling': 537,\n",
              " 'Scaffold inspection': 538,\n",
              " 'Toolbox talks': 539,\n",
              " 'Scaffold leveling': 540,\n",
              " 'Horizontals': 541,\n",
              " 'Swing gates': 542,\n",
              " 'Outdoor work': 543,\n",
              " 'Recovery': 544,\n",
              " 'KiCAD': 545,\n",
              " 'Machine learning': 546,\n",
              " 'Health Counseling': 547,\n",
              " 'Physical Examinations': 548,\n",
              " 'Nursing Best Practices': 549,\n",
              " 'Technological Advances': 550,\n",
              " 'Basic Life Support (BLS)': 551,\n",
              " 'APRN Board certification': 552,\n",
              " \"Master's degree in Nursing\": 553,\n",
              " 'General Accounting': 554,\n",
              " 'Affirmation Action': 555,\n",
              " 'State License': 556,\n",
              " 'Medical Knowledge': 557,\n",
              " 'Outpatient': 558,\n",
              " 'Decisionmaking': 559,\n",
              " 'NMC registration': 560,\n",
              " 'CMI Level 5 qualification': 561,\n",
              " 'Expert level knowledge of governance and risk frameworks': 562,\n",
              " 'Paid holidays and vacations': 563,\n",
              " 'Chemical fertilization': 564,\n",
              " 'MSDS': 565,\n",
              " 'Bilingual (Spanish)': 566,\n",
              " 'Pesticide applicators license': 567,\n",
              " 'Professional standards': 568,\n",
              " 'New hire training': 569,\n",
              " 'Recipe following': 570,\n",
              " 'Flexible work schedule': 571,\n",
              " 'Competitive wages': 572,\n",
              " 'Weekly pay': 573,\n",
              " 'Compensation': 574,\n",
              " 'Onboarding': 575,\n",
              " 'Versatility': 576,\n",
              " 'Selfmanagement': 577,\n",
              " 'Java': 578,\n",
              " 'JavaScript': 579,\n",
              " 'Azure': 580,\n",
              " 'Chatbot Development Tools': 581,\n",
              " 'FB Deep/MultiPier': 582,\n",
              " 'Pharmaceutical Development': 583,\n",
              " 'Trial Preparation': 584,\n",
              " 'College tuition assistance': 585,\n",
              " 'Posthigh school education': 586,\n",
              " 'CRM software': 587,\n",
              " 'Barber License': 588,\n",
              " 'WordPress': 589,\n",
              " '4+ Years of Related Experience': 590,\n",
              " 'Criminal Background Check': 591,\n",
              " 'Purchase and Sale Agreements': 592,\n",
              " 'Private Businesses': 593,\n",
              " 'Reorganizations': 594,\n",
              " 'Secured Financings': 595,\n",
              " 'Work assignment organization': 596,\n",
              " 'Work assignment coordination': 597,\n",
              " 'Computer science': 598,\n",
              " 'CAATs': 599,\n",
              " 'Ability to follow instructions': 600,\n",
              " 'Clinical Scientist': 601,\n",
              " 'Radiation Protection': 602,\n",
              " 'Medical Physics': 603,\n",
              " 'Honours Degree in Physics': 604,\n",
              " 'Food service experience': 605,\n",
              " 'Safe Food Handling Practices': 606,\n",
              " 'Surgical Suites': 607,\n",
              " 'InHouse Lab': 608,\n",
              " 'Data Safety': 609,\n",
              " 'Flexible Hours': 610,\n",
              " 'OnSite and Remote Job': 611,\n",
              " 'Mathematical ability': 612,\n",
              " 'Meat cutting and preparation': 613,\n",
              " 'Receiving and stocking': 614,\n",
              " 'Ability to work in a cold environment': 615,\n",
              " \"Food handler's license\": 616,\n",
              " 'Performance abilities': 617,\n",
              " 'Nursing standards': 618,\n",
              " 'Care plans': 619,\n",
              " 'Patient care needs': 620,\n",
              " 'Professional practice': 621,\n",
              " 'HIPAA requirements': 622,\n",
              " 'Paperwork coordination': 623,\n",
              " 'Intelligence Tools and Applications': 624,\n",
              " 'Plates': 625,\n",
              " 'Patient education': 626,\n",
              " 'Color blind test': 627,\n",
              " 'Minimum Equipment List (MEL)': 628,\n",
              " 'Engineering Drawings': 629,\n",
              " 'Bespoke software': 630,\n",
              " 'Legal terminology': 631,\n",
              " 'Phone calls': 632,\n",
              " 'Relationship building': 633,\n",
              " 'Physical Therapist license': 634,\n",
              " 'Juris Doctor (JD) degree': 635,\n",
              " 'LLM': 636,\n",
              " 'Document extraction': 637,\n",
              " 'Big data infrastructure': 638,\n",
              " 'Digital Marketing': 639,\n",
              " 'Communication and Comprehension': 640,\n",
              " 'Client Interaction': 641,\n",
              " 'Transportation Engineering': 642,\n",
              " 'Engineering Principles': 643,\n",
              " 'Construction Coordination': 644,\n",
              " 'Consulting': 645,\n",
              " 'HPLC method development': 646,\n",
              " 'Reading': 647,\n",
              " 'RISA': 648,\n",
              " 'Mathcad': 649,\n",
              " 'Bachelor of science in civil engineering': 650,\n",
              " 'ABET accreditation': 651,\n",
              " 'Leadership role': 652,\n",
              " 'Medical/dental/vision plans': 653,\n",
              " 'Discounted room rates': 654,\n",
              " 'Hospitality talents': 655,\n",
              " '1 year of verifiable work driving experience': 656,\n",
              " 'Clean Motor Vehicle Record': 657,\n",
              " 'Drug Test': 658,\n",
              " 'DOT Medical/Physical Exam': 659,\n",
              " 'SAFETY': 660,\n",
              " 'Military': 661,\n",
              " 'Construction Inspection': 662,\n",
              " 'RFI (Request for Information)': 663,\n",
              " 'Contractor Coordination': 664,\n",
              " 'Shop Drawings': 665,\n",
              " 'Subcontractor Coverage': 666,\n",
              " 'Architectural Coordination': 667,\n",
              " 'RFI Generation': 668,\n",
              " 'Subcontractor Pricing': 669,\n",
              " 'Hospital Staff Communication': 670,\n",
              " 'NAACLS': 671,\n",
              " 'ASCP Categoricalist Certification': 672,\n",
              " 'Equipment manuals': 673,\n",
              " 'Single and coextruding bar formers': 674,\n",
              " 'Comminutors': 675,\n",
              " 'Data availability': 676,\n",
              " 'CNSSI 4012': 677,\n",
              " 'CNSSI 4014': 678,\n",
              " 'Commercial Construction Practices and Procedures': 679,\n",
              " 'Construction Management Experience': 680,\n",
              " 'Safety management': 681,\n",
              " 'Hot work permits': 682,\n",
              " 'Mobile equipment safety': 683,\n",
              " 'Safety meetings': 684,\n",
              " 'Incident reporting': 685,\n",
              " 'Food presentation': 686,\n",
              " 'Equipment operation': 687,\n",
              " 'Team morale': 688,\n",
              " 'Federal background check': 689,\n",
              " 'Smartphone navigation': 690,\n",
              " 'Delivery accuracy': 691,\n",
              " 'Website redesigns': 692,\n",
              " 'Employee engagement (Glint)': 693,\n",
              " 'Reporting & Analytics': 694,\n",
              " 'Diversity equity and inclusion': 695,\n",
              " 'UKG': 696,\n",
              " 'Education assistance': 697,\n",
              " 'PQE': 698,\n",
              " 'SRA': 699,\n",
              " 'Apex': 700,\n",
              " 'Java Script': 701,\n",
              " 'Advanced Flows': 702,\n",
              " 'Performance Optimization': 703,\n",
              " 'SSL': 704,\n",
              " 'Firewall': 705,\n",
              " 'End User Testing': 706,\n",
              " 'CDSS Training': 707,\n",
              " 'Word Processing': 708,\n",
              " 'Compliance with laws': 709,\n",
              " 'Ethical conduct': 710,\n",
              " 'myTime mobile scheduling app': 711,\n",
              " 'Contract Administration': 712,\n",
              " 'Project Management Software': 713,\n",
              " 'Bettendorf IA': 714,\n",
              " 'EPIC EMR': 715,\n",
              " 'Quad Cities': 716,\n",
              " 'Laboratory assistants supervision': 717,\n",
              " 'KPI management': 718,\n",
              " 'Create and monitor forecasts': 719,\n",
              " 'Create and monitor commercial invoices': 720,\n",
              " 'Prepare shipping documents': 721,\n",
              " 'Claim damages': 722,\n",
              " 'Culinary Expertise': 723,\n",
              " 'SaaS': 724,\n",
              " 'Technical': 725,\n",
              " 'Standards': 726,\n",
              " 'Master of Architecture': 727,\n",
              " '12 years of project manager related experience': 728,\n",
              " 'Policy Language and Coverages': 729,\n",
              " 'Proper Investigation and Conclusions of Claims': 730,\n",
              " 'Authority Level Placement on Claim Files': 731,\n",
              " 'Training Needs Determination': 732,\n",
              " 'Personnel Selection Background': 733,\n",
              " 'Wellness Program': 734,\n",
              " '5 years in a Staff Management Role': 735,\n",
              " 'Cardiovascular Technology': 736,\n",
              " 'Cardio/Cardiovascular': 737,\n",
              " '* Teaching': 738,\n",
              " '* ELA curriculum': 739,\n",
              " '* Professional Development': 740,\n",
              " '* Dusting': 741,\n",
              " '* Laundry': 742,\n",
              " '* Bed Making': 743,\n",
              " '* Dry Cleaning': 744,\n",
              " '* Deep Cleaning': 745,\n",
              " 'General Liability': 746,\n",
              " 'NCCI': 747,\n",
              " 'Patient Education': 748,\n",
              " 'Subcontractor management': 749,\n",
              " 'Organizational and timemanagement skills': 750,\n",
              " 'Project management software and tools': 751,\n",
              " 'Teamwork and collaboration': 752,\n",
              " 'Adaptability to changing requirements': 753,\n",
              " 'Construction drawings': 754,\n",
              " 'Construction Quality': 755,\n",
              " 'Project Scope': 756,\n",
              " 'Snagging': 757,\n",
              " 'Permission to Work in the UK': 758,\n",
              " 'Occupational Medicine': 759,\n",
              " 'Joint Service Publication 950': 760,\n",
              " 'Joint Service Manual of Medical Fitness': 761,\n",
              " 'Flexible working options': 762,\n",
              " 'Accounts payable (AP)': 763,\n",
              " 'Accounts receivable (AR)': 764,\n",
              " '1099s': 765,\n",
              " '4year degree in Accounting or Finance': 766,\n",
              " 'Patient Engagement': 767,\n",
              " 'Productivity Bonus': 768,\n",
              " 'Professional Liability Insurance': 769,\n",
              " 'Structural inspection': 770,\n",
              " 'Multidisciplinary collaboration': 771,\n",
              " 'Rope Access': 772,\n",
              " 'BS in Civil Engineering': 773,\n",
              " 'Specifications Documents': 774,\n",
              " '1 Year Experience or Advanced Degree': 775,\n",
              " 'Roofing': 776,\n",
              " 'Roofing products': 777,\n",
              " 'Performancebased incentives': 778,\n",
              " 'Development programs': 779,\n",
              " 'Complex electrical structures': 780,\n",
              " 'Warehouse Management System experience': 781,\n",
              " 'Strong communication skills (written and verbal)': 782,\n",
              " 'Plastic surgery': 783,\n",
              " 'Orthopedic surgery': 784,\n",
              " 'Open heartthoracic surgery': 785,\n",
              " 'Urology': 786,\n",
              " 'Clerical duties': 787,\n",
              " 'High school education or equivalent': 788,\n",
              " 'Active unrestricted certification as a Medical Assistant': 789,\n",
              " 'Technical Field Experience (10 years)': 790,\n",
              " 'Assembly soldering': 791,\n",
              " 'New design vetting': 792,\n",
              " 'Internal/external customer service': 793,\n",
              " 'Cleanliness levels (Gross Visual Clean room)': 794,\n",
              " 'IPC standards': 795,\n",
              " 'Intersectionality': 796,\n",
              " 'Best practices': 797,\n",
              " 'Degree or relevant experience': 798,\n",
              " 'Sewer Camera': 799,\n",
              " 'Kneeling': 800,\n",
              " 'Electrophysiology': 801,\n",
              " 'PVI': 802,\n",
              " 'Restaurant operations': 803,\n",
              " 'Average Cost Inventory System': 804,\n",
              " 'Department sanitation': 805,\n",
              " 'Hand and arm coordination': 806,\n",
              " 'Lesson Planning': 807,\n",
              " 'Student Supervision': 808,\n",
              " 'Communication with Parents': 809,\n",
              " 'Attendance Tracking': 810,\n",
              " 'Elementary Education': 811,\n",
              " 'Substitute Paraprofessional': 812,\n",
              " 'Equipment Setup': 813,\n",
              " 'GED': 814,\n",
              " 'Quality initiatives': 815,\n",
              " 'Therapy': 816,\n",
              " 'Clerk': 817,\n",
              " 'Performance counseling': 818,\n",
              " 'Leadership and Management': 819,\n",
              " 'Clinical Audit and Evidence Gathering': 820,\n",
              " 'Catia': 821,\n",
              " 'Rootcause analysis': 822,\n",
              " 'DFMA': 823,\n",
              " 'Mechanisms': 824,\n",
              " 'Drawing release': 825,\n",
              " 'Design concepts': 826,\n",
              " 'New product concepts': 827,\n",
              " 'Engineered materials': 828,\n",
              " 'Processes': 829,\n",
              " 'Remain in a stationary position': 830,\n",
              " 'Administer medications': 831,\n",
              " 'Share oncall responsibilities': 832,\n",
              " 'Ability to take initiative': 833,\n",
              " 'Regular attendance': 834,\n",
              " 'Labor Cost Control': 835,\n",
              " 'Forbes Standards': 836,\n",
              " 'EKGs': 837,\n",
              " 'Patient service experience': 838,\n",
              " 'Sterilizing Tech 2': 839,\n",
              " 'Instrument tracking system': 840,\n",
              " 'Surgery information system': 841,\n",
              " 'Hospital information system applications': 842,\n",
              " 'Knowledge base expansion': 843,\n",
              " 'Instrument tray assembly': 844,\n",
              " 'Computer experience': 845,\n",
              " 'Medical assisting': 846,\n",
              " 'Venipuncture': 847,\n",
              " 'Medical assistant program': 848,\n",
              " 'Approved state trainer': 849,\n",
              " 'Bachelor’s degree in Early Childhood Education': 850,\n",
              " 'Lift a minimum of 40 pounds': 851,\n",
              " 'Positive Discipline': 852,\n",
              " 'Manuals': 853,\n",
              " 'Core values': 854,\n",
              " 'Clinical education': 855,\n",
              " 'Dedicated mentorship opportunities': 856,\n",
              " 'Experience driving on ice roads': 857,\n",
              " 'Long hours and flexible schedule': 858,\n",
              " 'New file opening and client file maintenance': 859,\n",
              " 'Task organization and prioritization': 860,\n",
              " 'Low Income Housing Tax Credits (LIHTC)': 861,\n",
              " 'Renewable Energy Tax Credits (RETC)': 862,\n",
              " 'Community Development Financial Institutions (CDFI)': 863,\n",
              " 'Property Compliance': 864,\n",
              " 'Ability to travel domestically': 865,\n",
              " 'Therapy Interventions': 866,\n",
              " 'Classroom Discussions': 867,\n",
              " 'Therapy Examination': 868,\n",
              " 'Compliance Audits': 869,\n",
              " 'Medical record': 870,\n",
              " 'PartTime Opportunities': 871,\n",
              " 'SOAP API': 872,\n",
              " 'Responsive Design Framework': 873,\n",
              " 'HTML5': 874,\n",
              " 'CSS': 875,\n",
              " 'Comparability studies': 876,\n",
              " 'IND filings': 877,\n",
              " 'HVAC Repair': 878,\n",
              " 'Welding': 879,\n",
              " 'Engine Overhaul': 880,\n",
              " 'Drug Screen': 881,\n",
              " 'Equipment fluid checking': 882,\n",
              " 'Compliance with laws regulations ordinances policies and directives': 883,\n",
              " 'Ability to stand sit walk use hands and fingers reach stoop kneel crouch crawl talk hear climb balance taste and smell': 884,\n",
              " 'Occasional work in high precarious places': 885,\n",
              " 'Forklift certification': 886,\n",
              " 'Bread knowledge': 887,\n",
              " 'Physical lifting': 888,\n",
              " 'Ability to work with hot grease': 889,\n",
              " 'Ability to work with wet surfaces': 890,\n",
              " 'Customer Invoicing': 891,\n",
              " 'Cashier operations': 892,\n",
              " 'Outgoing demeanor': 893,\n",
              " 'Engaging demeanor': 894,\n",
              " 'Previous cashier experience': 895,\n",
              " 'Baker': 896,\n",
              " 'Team Orientation': 897,\n",
              " 'Home Therapies': 898,\n",
              " 'Continuous Quality Improvement (CQI)': 899,\n",
              " 'Clinical Manager': 900,\n",
              " 'End Stage Renal Disease (ESRD)': 901,\n",
              " 'Shipment processing': 902,\n",
              " 'Product Management': 903,\n",
              " 'Go': 904,\n",
              " 'Hive': 905,\n",
              " 'Storm': 906,\n",
              " 'Zookeeper': 907,\n",
              " 'Vinyasa Yoga': 908,\n",
              " 'Heated Yoga': 909,\n",
              " 'Yoga Alliance Certification': 910,\n",
              " 'Community Building': 911,\n",
              " 'MS Forms': 912,\n",
              " 'Legal services': 913,\n",
              " 'Supervisory role': 914,\n",
              " 'Paid Parking': 915,\n",
              " 'Target': 916,\n",
              " 'Monte Carlo codes': 917,\n",
              " 'CT': 918,\n",
              " 'Familiarity with dog training classes and schedules': 919,\n",
              " 'Child Care Experience': 920,\n",
              " 'First Aid Certification': 921,\n",
              " 'Patient Health Needs Analysis': 922,\n",
              " 'Crisis Intervention': 923,\n",
              " 'Workforce Solutions': 924,\n",
              " '18 Years of Age': 925,\n",
              " 'Financial Projections': 926,\n",
              " 'Accounting Experience': 927,\n",
              " 'Legal Experience': 928,\n",
              " 'Legal Environment': 929,\n",
              " 'Legal Professionals': 930,\n",
              " 'Crew Training': 931,\n",
              " 'Telephone Manner': 932,\n",
              " 'Reviewing': 933,\n",
              " 'OCS (RSA) level 2 certificate': 934,\n",
              " 'Minute taking': 935,\n",
              " 'B2B/B2B2C': 936,\n",
              " 'Human psychology': 937,\n",
              " 'Project management tools': 938,\n",
              " 'Budget tracking': 939,\n",
              " 'Office management': 940,\n",
              " 'Administering medications': 941,\n",
              " 'Standard Operating Procedures (SOPs)': 942,\n",
              " 'Data flow architecture': 943,\n",
              " 'Technical/operational guidance': 944,\n",
              " 'Communications intelligence collection equipment': 945,\n",
              " 'Middle East North Africa and Central Asia target experience': 946,\n",
              " 'Yemeni': 947,\n",
              " 'Russian': 948,\n",
              " 'Chinese Mandarin': 949,\n",
              " 'Mortgage Loan Officer': 950,\n",
              " 'Processors': 951,\n",
              " 'Medical/Dental/Vision Benefits': 952,\n",
              " 'Ability to Work Independently and with a Team': 953,\n",
              " 'BMC Remedy': 954,\n",
              " 'Remedy 9.1': 955,\n",
              " 'Linux OS': 956,\n",
              " 'Application Frameworks': 957,\n",
              " 'Systems Engineering': 958,\n",
              " 'Data recording': 959,\n",
              " 'Good attendance': 960,\n",
              " 'Mechanical skills': 961,\n",
              " 'FRS 120': 962,\n",
              " 'People management': 963,\n",
              " 'Completion': 964,\n",
              " 'MED/SURG Nurse': 965,\n",
              " '12hour shifts': 966,\n",
              " 'Local / Travel Contract': 967,\n",
              " 'Oneyear current experience as a Registered Nurse in specialty': 968,\n",
              " 'Pass prerequisite screening requirements (testing medical criminal)': 969,\n",
              " 'Laser etchers': 970,\n",
              " 'Disassembling machinery and equipment for cleaning maintenance and repair': 971,\n",
              " 'Replacing worn or faulty components that are preventing optimum machine performance': 972,\n",
              " 'Microsoft Office 365': 973,\n",
              " 'Pipeline and Hazardous Materials Safety Administration (PHMSA)': 974,\n",
              " \"Bachelor's Degree (Preferred)\": 975,\n",
              " 'Agile Development': 976,\n",
              " 'IaaS': 977,\n",
              " 'Unix/Linux': 978,\n",
              " 'NoSQL': 979,\n",
              " 'GUI Applications': 980,\n",
              " 'Data Distribution Service (DDS)': 981,\n",
              " 'Unified Modeling Language (UML)': 982,\n",
              " 'Research translation': 983,\n",
              " 'Professional Service': 984,\n",
              " 'Graduate teaching mission': 985,\n",
              " 'Research infrastructure': 986,\n",
              " 'TrueBeam': 987,\n",
              " 'Interventional xray fluoroscopy': 988,\n",
              " 'Mammography': 989,\n",
              " 'Digital breast tomosynthesis': 990,\n",
              " 'Optical imaging': 991,\n",
              " 'Selfpaced learning': 992,\n",
              " 'Health clearance': 993,\n",
              " 'Physical labor': 994,\n",
              " 'Parts Sales': 995,\n",
              " 'Bachelors of Science in Nursing': 996,\n",
              " 'Retail business fundamentals': 997,\n",
              " 'Pricing strategies': 998,\n",
              " 'Revisions': 999,\n",
              " ...}"
            ]
          },
          "metadata": {},
          "execution_count": 20
        }
      ]
    },
    {
      "cell_type": "code",
      "source": [
        "#transforming baskets into sets\n",
        "def sets(basket):\n",
        "    return {RDD_F_index[skill] for skill in basket}\n",
        "\n",
        "baskets = baskets.map(sets)"
      ],
      "metadata": {
        "id": "hjNREWtpF5JT"
      },
      "execution_count": 21,
      "outputs": []
    },
    {
      "cell_type": "code",
      "source": [
        "type(baskets)"
      ],
      "metadata": {
        "id": "G1YtrzBS9P6-",
        "colab": {
          "base_uri": "https://localhost:8080/",
          "height": 203
        },
        "outputId": "ab2b63c2-b544-404f-8639-6977ff1e7db8"
      },
      "execution_count": 22,
      "outputs": [
        {
          "output_type": "execute_result",
          "data": {
            "text/plain": [
              "pyspark.rdd.PipelinedRDD"
            ],
            "text/html": [
              "<div style=\"max-width:800px; border: 1px solid var(--colab-border-color);\"><style>\n",
              "      pre.function-repr-contents {\n",
              "        overflow-x: auto;\n",
              "        padding: 8px 12px;\n",
              "        max-height: 500px;\n",
              "      }\n",
              "\n",
              "      pre.function-repr-contents.function-repr-contents-collapsed {\n",
              "        cursor: pointer;\n",
              "        max-height: 100px;\n",
              "      }\n",
              "    </style>\n",
              "    <pre style=\"white-space: initial; background:\n",
              "         var(--colab-secondary-surface-color); padding: 8px 12px;\n",
              "         border-bottom: 1px solid var(--colab-border-color);\"><b>pyspark.rdd.PipelinedRDD</b><br/>def __init__(prev: RDD[T], func: Callable[[int, Iterable[T]], Iterable[U]], preservesPartitioning: bool=False, isFromBarrier: bool=False)</pre><pre class=\"function-repr-contents function-repr-contents-collapsed\" style=\"\"><a class=\"filepath\" style=\"display:none\" href=\"#\">/usr/local/lib/python3.10/dist-packages/pyspark/rdd.py</a>Examples\n",
              "--------\n",
              "Pipelined maps:\n",
              "\n",
              "&gt;&gt;&gt; rdd = sc.parallelize([1, 2, 3, 4])\n",
              "&gt;&gt;&gt; rdd.map(lambda x: 2 * x).cache().map(lambda x: 2 * x).collect()\n",
              "[4, 8, 12, 16]\n",
              "&gt;&gt;&gt; rdd.map(lambda x: 2 * x).map(lambda x: 2 * x).collect()\n",
              "[4, 8, 12, 16]\n",
              "\n",
              "Pipelined reduces:\n",
              "\n",
              "&gt;&gt;&gt; from operator import add\n",
              "&gt;&gt;&gt; rdd.map(lambda x: 2 * x).reduce(add)\n",
              "20\n",
              "&gt;&gt;&gt; rdd.flatMap(lambda x: [x, x]).reduce(add)\n",
              "20</pre>\n",
              "      <script>\n",
              "      if (google.colab.kernel.accessAllowed && google.colab.files && google.colab.files.view) {\n",
              "        for (const element of document.querySelectorAll('.filepath')) {\n",
              "          element.style.display = 'block'\n",
              "          element.onclick = (event) => {\n",
              "            event.preventDefault();\n",
              "            event.stopPropagation();\n",
              "            google.colab.files.view(element.textContent, 5395);\n",
              "          };\n",
              "        }\n",
              "      }\n",
              "      for (const element of document.querySelectorAll('.function-repr-contents')) {\n",
              "        element.onclick = (event) => {\n",
              "          event.preventDefault();\n",
              "          event.stopPropagation();\n",
              "          element.classList.toggle('function-repr-contents-collapsed');\n",
              "        };\n",
              "      }\n",
              "      </script>\n",
              "      </div>"
            ]
          },
          "metadata": {},
          "execution_count": 22
        }
      ]
    },
    {
      "cell_type": "code",
      "source": [
        "baskets.first()"
      ],
      "metadata": {
        "id": "F6mNGo16F6bx",
        "collapsed": true,
        "colab": {
          "base_uri": "https://localhost:8080/"
        },
        "outputId": "5230a281-c511-4247-cc92-d2c5511c151a"
      },
      "execution_count": 23,
      "outputs": [
        {
          "output_type": "execute_result",
          "data": {
            "text/plain": [
              "{0,\n",
              " 1,\n",
              " 2,\n",
              " 3,\n",
              " 4,\n",
              " 5,\n",
              " 6,\n",
              " 7,\n",
              " 8,\n",
              " 16642,\n",
              " 16643,\n",
              " 16644,\n",
              " 16645,\n",
              " 16646,\n",
              " 16647,\n",
              " 16648,\n",
              " 16649,\n",
              " 33030,\n",
              " 33031,\n",
              " 33032,\n",
              " 33033,\n",
              " 33034,\n",
              " 33035,\n",
              " 33036,\n",
              " 33037,\n",
              " 33038,\n",
              " 33039,\n",
              " 49416,\n",
              " 49417,\n",
              " 49418,\n",
              " 49419,\n",
              " 49420,\n",
              " 49421,\n",
              " 49422,\n",
              " 49423,\n",
              " 49424,\n",
              " 65891,\n",
              " 65892,\n",
              " 65893,\n",
              " 65894,\n",
              " 65895,\n",
              " 65896,\n",
              " 65897,\n",
              " 65898,\n",
              " 65899,\n",
              " 65900,\n",
              " 82566,\n",
              " 82567,\n",
              " 82568,\n",
              " 82569,\n",
              " 82570,\n",
              " 82571,\n",
              " 82572}"
            ]
          },
          "metadata": {},
          "execution_count": 23
        }
      ]
    },
    {
      "cell_type": "markdown",
      "source": [
        "The A-Priori Algorithm"
      ],
      "metadata": {
        "id": "2EiJOlU8GVCy"
      }
    },
    {
      "cell_type": "code",
      "source": [
        "support = 300\n",
        "first_pass = baskets.flatMap(lambda basket:[(skill,1) for skill in basket]) \\\n",
        "                .reduceByKey(lambda x,y:x+y) \\\n",
        "                .filter(lambda x:x[1]>support)\n",
        "\n",
        "print(\"Number of frequent singletons:\", first_pass.count())\n"
      ],
      "metadata": {
        "id": "2WF31MB8ImFf",
        "colab": {
          "base_uri": "https://localhost:8080/"
        },
        "outputId": "61a25e83-aa3a-4c13-f779-b5c15f7ff738"
      },
      "execution_count": 24,
      "outputs": [
        {
          "output_type": "stream",
          "name": "stdout",
          "text": [
            "Number of frequent singletons: 61\n"
          ]
        }
      ]
    },
    {
      "cell_type": "code",
      "source": [
        "  max_s = first_pass.max(lambda x: x[1])\n",
        "  max_singleton = (list(RDD_F_index.keys())[list(RDD_F_index.values()).index(max_s[0])])\n",
        "  print(\"The most frequent singleton is:\",max_singleton)"
      ],
      "metadata": {
        "id": "KMDoGObghdxq",
        "colab": {
          "base_uri": "https://localhost:8080/"
        },
        "outputId": "7b6420f7-5b31-4e4c-c1d5-7981868ac941"
      },
      "execution_count": 25,
      "outputs": [
        {
          "output_type": "stream",
          "name": "stdout",
          "text": [
            "The most frequent singleton is: Communication\n"
          ]
        }
      ]
    },
    {
      "cell_type": "code",
      "source": [
        "top_5_skills = first_pass.takeOrdered(5, key=lambda x: -x[1])\n",
        "\n",
        "SKILL_1 = []\n",
        "COUNT_1 = []\n",
        "\n",
        "print(\"Top 5 frequent singletons:\")\n",
        "for singleton in top_5_skills:\n",
        "    skill_index, count = singleton\n",
        "    # Find the key corresponding to the given value\n",
        "    keys_for_value = [key for key, value in RDD_F_index.items() if value == skill_index]\n",
        "    SKILL_1.append(keys_for_value)\n",
        "    COUNT_1.append(count)\n",
        "    print(f\"Skill_index: {skill_index}, Count: {count}\")\n",
        "    print(f\"Key corresponding to the value {skill_index}: {keys_for_value}\")"
      ],
      "metadata": {
        "id": "Q-KeBSxq_9Bn",
        "colab": {
          "base_uri": "https://localhost:8080/"
        },
        "outputId": "986656e0-91c5-41f3-942a-6744a2948d95"
      },
      "execution_count": 26,
      "outputs": [
        {
          "output_type": "stream",
          "name": "stdout",
          "text": [
            "Top 5 frequent singletons:\n",
            "Skill_index: 82585, Count: 3605\n",
            "Key corresponding to the value 82585: ['Communication']\n",
            "Skill_index: 65911, Count: 2220\n",
            "Key corresponding to the value 65911: ['Teamwork']\n",
            "Skill_index: 82608, Count: 1826\n",
            "Key corresponding to the value 82608: ['Leadership']\n",
            "Skill_index: 82568, Count: 1588\n",
            "Key corresponding to the value 82568: ['Customer service']\n",
            "Skill_index: 49450, Count: 1118\n",
            "Key corresponding to the value 49450: ['Communication skills']\n"
          ]
        }
      ]
    },
    {
      "cell_type": "code",
      "source": [
        "plt.figure(figsize=(10, 6))\n",
        "SKILL_1 = [str(skill) for skill in SKILL_1]\n",
        "bars = plt.bar(SKILL_1, COUNT_1, color='skyblue')\n",
        "\n",
        "# Add titles and labels\n",
        "plt.title('Top 5 Frequent Skills', fontsize=16)\n",
        "plt.xlabel('Skills', fontsize=12)\n",
        "plt.ylabel('Count', fontsize=12)\n",
        "# Add counts on top of the bars\n",
        "for bar, count in zip(bars, COUNT_1):\n",
        "    plt.text(bar.get_x() + bar.get_width() / 2, bar.get_height() - 10,\n",
        "             str(count),\n",
        "             ha='center', va='bottom', fontsize=12, color='black')\n",
        "\n",
        "plt.xticks()\n",
        "plt.tight_layout()\n",
        "plt.show()"
      ],
      "metadata": {
        "id": "w9jFn-w0Z9gR",
        "colab": {
          "base_uri": "https://localhost:8080/",
          "height": 607
        },
        "outputId": "0cf0327a-bf6b-4fb9-a751-de24f22e2858"
      },
      "execution_count": 27,
      "outputs": [
        {
          "output_type": "display_data",
          "data": {
            "text/plain": [
              "<Figure size 1000x600 with 1 Axes>"
            ],
            "image/png": "[encoded data removed]"
          },
          "metadata": {}
        }
      ]
    },
    {
      "cell_type": "code",
      "source": [
        "frequent_singletons = set(first_pass.map(lambda x:x[0]).collect())\n",
        "second_pass = baskets.flatMap(lambda basket:[(skill,1) for skill in combinations(sorted(basket),2)]) \\\n",
        "                 .filter(lambda x: x[0][0] in frequent_singletons) \\\n",
        "                 .filter(lambda x: x[0][1] in frequent_singletons) \\\n",
        "                 .reduceByKey(lambda x,y: x+y) \\\n",
        "                 .filter(lambda x:x[1]>support)\n",
        "print(second_pass.count())"
      ],
      "metadata": {
        "id": "2R0NF5qzIq00",
        "colab": {
          "base_uri": "https://localhost:8080/"
        },
        "outputId": "1c28b184-9a54-4c27-ff4c-f9a24986c2f7"
      },
      "execution_count": 28,
      "outputs": [
        {
          "output_type": "stream",
          "name": "stdout",
          "text": [
            "33\n"
          ]
        }
      ]
    },
    {
      "cell_type": "code",
      "source": [
        "max_p = second_pass.max(lambda x: x[1])\n",
        "max_pair = []\n",
        "for skill in max_p[0]:\n",
        "  max_pair.append(list(RDD_F_index.keys())[list(RDD_F_index.values()).index(skill)])\n",
        "print(\"The most frequent pair of skills are\", max_pair)"
      ],
      "metadata": {
        "id": "82rb_ZTDB1Xj",
        "colab": {
          "base_uri": "https://localhost:8080/"
        },
        "outputId": "468125bf-d893-4a2a-b889-5363f36ddee5"
      },
      "execution_count": 29,
      "outputs": [
        {
          "output_type": "stream",
          "name": "stdout",
          "text": [
            "The most frequent pair of skills are ['Teamwork', 'Communication']\n"
          ]
        }
      ]
    },
    {
      "cell_type": "code",
      "source": [
        "top_5_skills_pairs = second_pass.takeOrdered(5, key=lambda x: -x[1])\n",
        "print(\"Top 5 frequent skills pairs:\")\n",
        "for pair in top_5_skills_pairs:\n",
        "    skills_index, count = pair\n",
        "    # Convert skill indexes to skill names\n",
        "    keys_for_value = [key for key, value in RDD_F_index.items() if value == skills_index]\n",
        "    print(f\"Skills Pair: {skills_index}, Count: {count}\")"
      ],
      "metadata": {
        "id": "Frv3TsQjXFrs",
        "colab": {
          "base_uri": "https://localhost:8080/"
        },
        "outputId": "f1387a45-5618-416b-981b-07579674d1de"
      },
      "execution_count": 31,
      "outputs": [
        {
          "output_type": "stream",
          "name": "stdout",
          "text": [
            "Top 5 frequent skills pairs:\n",
            "Skills Pair: (65911, 82585), Count: 1364\n",
            "Skills Pair: (82585, 82608), Count: 1161\n",
            "Skills Pair: (82568, 82585), Count: 776\n",
            "Skills Pair: (33030, 82585), Count: 672\n",
            "Skills Pair: (65911, 82608), Count: 658\n"
          ]
        }
      ]
    },
    {
      "cell_type": "code",
      "source": [
        "SKILL_2 = []\n",
        "COUNT_2 = []\n",
        "\n",
        "print(\"Top 5 frequent skills pairs:\")\n",
        "for pair in top_5_skills_pairs:\n",
        "    skills_index, count = pair\n",
        "    skill_names =[]\n",
        "    for skill_index in skills_index:\n",
        "    # Find the key corresponding to the given value\n",
        "        skill_names += [key for key, value in RDD_F_index.items() if value == skill_index]\n",
        "    SKILL_2.append(skill_names)\n",
        "    COUNT_2.append(count)\n",
        "    print(f\"Skills: {skill_names}, Count: {count}\")"
      ],
      "metadata": {
        "id": "nZsmipoSC-qu",
        "colab": {
          "base_uri": "https://localhost:8080/"
        },
        "outputId": "23a7fa9e-c219-4aa4-de9f-a8fb6633bff3"
      },
      "execution_count": 32,
      "outputs": [
        {
          "output_type": "stream",
          "name": "stdout",
          "text": [
            "Top 5 frequent skills pairs:\n",
            "Skills: ['Teamwork', 'Communication'], Count: 1364\n",
            "Skills: ['Communication', 'Leadership'], Count: 1161\n",
            "Skills: ['Customer service', 'Communication'], Count: 776\n",
            "Skills: ['Problemsolving', 'Communication'], Count: 672\n",
            "Skills: ['Teamwork', 'Leadership'], Count: 658\n"
          ]
        }
      ]
    },
    {
      "cell_type": "code",
      "source": [
        "plt.figure(figsize=(10, 6))\n",
        "SKILL_2 = [str(skill) for skill in SKILL_2]\n",
        "bars_2 = plt.bar(SKILL_2, COUNT_2, color='skyblue')\n",
        "\n",
        "plt.title('Top 5 Frequent Skills Pairs', fontsize=16)\n",
        "plt.xlabel('Skills', fontsize=12)\n",
        "plt.ylabel('Count', fontsize=12)\n",
        "# Add counts on top of the bars\n",
        "for bar, count in zip(bars_2, COUNT_2):\n",
        "    plt.text(bar.get_x() + bar.get_width() / 2, bar.get_height() - 20,\n",
        "             str(count),\n",
        "             ha='center', va='bottom', fontsize=12, color='black')\n",
        "plt.xticks(rotation=45)\n",
        "plt.tight_layout()\n",
        "plt.show()"
      ],
      "metadata": {
        "id": "JhX1gD-cewLd",
        "colab": {
          "base_uri": "https://localhost:8080/",
          "height": 607
        },
        "outputId": "2d6f6414-ef07-446b-c893-4b01e019589c"
      },
      "execution_count": 33,
      "outputs": [
        {
          "output_type": "display_data",
          "data": {
            "text/plain": [
              "<Figure size 1000x600 with 1 Axes>"
            ],
            "image/png": "[encoded data removed]"
          },
          "metadata": {}
        }
      ]
    },
    {
      "cell_type": "code",
      "source": [
        "frequent_pairs = set(second_pass.map(lambda x:x[0]).collect())\n",
        "third_pass = baskets.flatMap(lambda basket:[(skill,1) for skill in combinations(sorted(basket),3)]) \\\n",
        "                 .filter(lambda x: (x[0][0],x[0][1]) in frequent_pairs) \\\n",
        "                 .filter(lambda x: (x[0][1],x[0][2]) in frequent_pairs) \\\n",
        "                 .filter(lambda x: (x[0][0],x[0][2]) in frequent_pairs) \\\n",
        "                 .reduceByKey(lambda x,y: x+y) \\\n",
        "                 .filter(lambda x:x[1]>support)\n",
        "print(third_pass.count())"
      ],
      "metadata": {
        "id": "9Mg-wgx8NdT_",
        "colab": {
          "base_uri": "https://localhost:8080/"
        },
        "outputId": "97dae199-0f59-4ca5-dee1-4e5991c90584"
      },
      "execution_count": 34,
      "outputs": [
        {
          "output_type": "stream",
          "name": "stdout",
          "text": [
            "4\n"
          ]
        }
      ]
    },
    {
      "cell_type": "code",
      "source": [
        "max_t = third_pass.max(lambda x: x[1])\n",
        "max_triple = []\n",
        "for skill in max_t[0]:\n",
        "  max_triple.append(list(RDD_F_index.keys())[list(RDD_F_index.values()).index(skill)])\n",
        "print(\"The most frequent triple skills are\", max_triple)"
      ],
      "metadata": {
        "id": "9fruhoWiXzBw",
        "colab": {
          "base_uri": "https://localhost:8080/"
        },
        "outputId": "2d89fe8e-b205-43ac-ccdb-13a859ba24a8"
      },
      "execution_count": 82,
      "outputs": [
        {
          "output_type": "stream",
          "name": "stdout",
          "text": [
            "The most frequent triple skills are ['Teamwork', 'Communication', 'Leadership']\n"
          ]
        }
      ]
    },
    {
      "cell_type": "code",
      "source": [
        "top_4_skills_triplets = third_pass.takeOrdered(4, key=lambda x: -x[1])"
      ],
      "metadata": {
        "id": "Gc8rf6lLXstV"
      },
      "execution_count": 83,
      "outputs": []
    },
    {
      "cell_type": "code",
      "source": [
        "print(\"Top 4 frequent skills triplets:\")\n",
        "for triple in top_4_skills_triplets:\n",
        "    skills_index, count = triple\n",
        "    # Convert skill indexes to skill names\n",
        "    keys_for_value = [key for key, value in RDD_F_index.items() if value == skills_index]\n",
        "    print(f\"Skills Triplets: {skills_index}, Count: {count}\")"
      ],
      "metadata": {
        "id": "BDR3exc2XcFF",
        "colab": {
          "base_uri": "https://localhost:8080/"
        },
        "outputId": "e2edb2cd-6d34-445a-8413-892fc292d68f"
      },
      "execution_count": 84,
      "outputs": [
        {
          "output_type": "stream",
          "name": "stdout",
          "text": [
            "Top 4 frequent skills triplets:\n",
            "Skills Triplets: (65911, 82585, 82608), Count: 510\n",
            "Skills Triplets: (33030, 65911, 82585), Count: 402\n",
            "Skills Triplets: (65911, 82568, 82585), Count: 380\n",
            "Skills Triplets: (33030, 82568, 82585), Count: 321\n"
          ]
        }
      ]
    },
    {
      "cell_type": "code",
      "source": [
        "SKILL_3 = []\n",
        "COUNT_3 = []\n",
        "print(\"Top 4 frequent skills triplets:\")\n",
        "for triple in top_4_skills_triplets:\n",
        "    skills_index, count = triple\n",
        "    skill_names_trip =[]\n",
        "    for skill_index in skills_index:\n",
        "    # Find the key corresponding to the given value\n",
        "        skill_names_trip += [key for key, value in RDD_F_index.items() if value == skill_index]\n",
        "    SKILL_3.append(skill_names_trip)\n",
        "    COUNT_3.append(count)\n",
        "    print(f\"Skills: {skill_names_trip}, Count: {count}\")"
      ],
      "metadata": {
        "id": "ZvwBfNx7X4jE",
        "colab": {
          "base_uri": "https://localhost:8080/"
        },
        "outputId": "511bab7c-b980-4801-a545-32866d2cb641"
      },
      "execution_count": 85,
      "outputs": [
        {
          "output_type": "stream",
          "name": "stdout",
          "text": [
            "Top 4 frequent skills triplets:\n",
            "Skills: ['Teamwork', 'Communication', 'Leadership'], Count: 510\n",
            "Skills: ['Problemsolving', 'Teamwork', 'Communication'], Count: 402\n",
            "Skills: ['Teamwork', 'Customer service', 'Communication'], Count: 380\n",
            "Skills: ['Problemsolving', 'Customer service', 'Communication'], Count: 321\n"
          ]
        }
      ]
    },
    {
      "cell_type": "code",
      "source": [
        "plt.figure(figsize=(10, 8))\n",
        "SKILL_3 = [str(skill) for skill in SKILL_3]\n",
        "bars_3 = plt.bar(SKILL_3, COUNT_3, color='skyblue')\n",
        "\n",
        "plt.title('Top 4 Frequent Skills Triplets', fontsize=16)\n",
        "plt.xlabel('Skills', fontsize=12)\n",
        "plt.ylabel('Count', fontsize=12)\n",
        "# Add counts on top of the bars\n",
        "for bar, count in zip(bars_3, COUNT_3):\n",
        "    plt.text(bar.get_x() + bar.get_width() / 2, bar.get_height() - 5,\n",
        "             str(count),\n",
        "             ha='center', va='bottom', fontsize=12, color='black')\n",
        "\n",
        "plt.xticks(rotation=45)\n",
        "plt.tight_layout()\n",
        "plt.show()"
      ],
      "metadata": {
        "id": "MSncYSG9fsBE",
        "colab": {
          "base_uri": "https://localhost:8080/",
          "height": 807
        },
        "outputId": "17ea8e75-4562-4bc5-87d3-108d7cc6a746"
      },
      "execution_count": 81,
      "outputs": [
        {
          "output_type": "display_data",
          "data": {
            "text/plain": [
              "<Figure size 1000x800 with 1 Axes>"
            ],
            "image/png": "[encoded data removed]"
          },
          "metadata": {}
        }
      ]
    },
    {
      "cell_type": "markdown",
      "source": [
        "Define a function called apriori()"
      ],
      "metadata": {
        "id": "-YbOPjca95wM"
      }
    },
    {
      "cell_type": "code",
      "source": [
        "def apriori(baskets_collection,support,RDD_F_index):\n",
        "\n",
        "  print(\"Frequent singletons\")\n",
        "\n",
        "  first_pass = baskets_collection.flatMap(lambda basket: [(skill,1) for skill in basket]) \\\n",
        "                                .reduceByKey(lambda x,y: x+y) \\\n",
        "                                .filter(lambda x: x[1]>support)\n",
        "\n",
        "  first_pass_count = first_pass.count()\n",
        "\n",
        "  if first_pass_count == 0:\n",
        "    print(\"Lower the support\")\n",
        "    return\n",
        "\n",
        "  print(\"Number of frequent singletons:\",first_pass_count)\n",
        "\n",
        "  max_s = first_pass.max(lambda x: x[1])\n",
        "  max_singleton = (list(RDD_F_index.keys())[list(RDD_F_index.values()).index(max_s[0])])\n",
        "  print(\"Most frequent singleton:\",max_singleton)\n",
        "\n",
        "  counts = set(first_pass.map(lambda x: (x[0],)).collect())\n",
        "\n",
        "  print()\n",
        "\n",
        "  k = 2\n",
        "\n",
        "  while True:\n",
        "\n",
        "    print(\"Itemesets of size:\",k)\n",
        "\n",
        "    pass_n = baskets_collection.flatMap(lambda basket:[(skill,1) for skill in combinations(sorted(basket),k) if\n",
        "                                                      all(item in counts for item in combinations(skill,k-1))]) \\\n",
        "                              .reduceByKey(lambda x,y: x+y) \\\n",
        "                              .filter(lambda x: x[1]>support)\n",
        "\n",
        "    pass_count = pass_n.count()\n",
        "\n",
        "    if pass_count != 0:\n",
        "      print(\"Number of frequent itemsets of size\",k,\"are:\",pass_count)\n",
        "\n",
        "      max_p = pass_n.max(lambda x: x[1])\n",
        "      max_itemset = []\n",
        "      for skill in max_p[0]:\n",
        "        max_itemset.append(list(RDD_F_index.keys())[list(RDD_F_index.values()).index(skill)])\n",
        "      print(\"Most frequent itemset of size\",k,\"is composed by:\",max_itemset)\n",
        "\n",
        "      counts = set(pass_n.map(lambda x: x[0]).collect())\n",
        "\n",
        "      print()\n",
        "\n",
        "      k+=1\n",
        "\n",
        "    else:\n",
        "      print(\"There are no frequent itemsets of size\",k)\n",
        "\n",
        "      break"
      ],
      "metadata": {
        "id": "J1xf9zdlAcx6"
      },
      "execution_count": 78,
      "outputs": []
    },
    {
      "cell_type": "code",
      "source": [
        "apriori(baskets,support,RDD_F_index)"
      ],
      "metadata": {
        "colab": {
          "base_uri": "https://localhost:8080/"
        },
        "id": "ZUeu8PKiA16-",
        "outputId": "70026055-e1d2-4836-f9bd-71abb3a61dca"
      },
      "execution_count": 79,
      "outputs": [
        {
          "output_type": "stream",
          "name": "stdout",
          "text": [
            "Frequent singletons\n",
            "Number of frequent singletons: 61\n",
            "Most frequent singleton: Communication\n",
            "\n",
            "Itemesets of size: 2\n",
            "Number of frequent itemsets of size 2 are: 33\n",
            "Most frequent itemset of size 2 is composed by: ['Teamwork', 'Communication']\n",
            "\n",
            "Itemesets of size: 3\n",
            "Number of frequent itemsets of size 3 are: 4\n",
            "Most frequent itemset of size 3 is composed by: ['Teamwork', 'Communication', 'Leadership']\n",
            "\n",
            "Itemesets of size: 4\n",
            "There are no frequent itemsets of size 4\n"
          ]
        }
      ]
    },
    {
      "cell_type": "code",
      "source": [
        "spark.stop\n"
      ],
      "metadata": {
        "id": "Vktn_90EWJrx",
        "colab": {
          "base_uri": "https://localhost:8080/",
          "height": 186
        },
        "outputId": "36244f58-2ac8-43c2-db96-db73bed5a827"
      },
      "execution_count": 80,
      "outputs": [
        {
          "output_type": "execute_result",
          "data": {
            "text/plain": [
              "<bound method SparkSession.stop of <pyspark.sql.session.SparkSession object at 0x7ced9f7fe5f0>>"
            ],
            "text/html": [
              "<div style=\"max-width:800px; border: 1px solid var(--colab-border-color);\"><style>\n",
              "      pre.function-repr-contents {\n",
              "        overflow-x: auto;\n",
              "        padding: 8px 12px;\n",
              "        max-height: 500px;\n",
              "      }\n",
              "\n",
              "      pre.function-repr-contents.function-repr-contents-collapsed {\n",
              "        cursor: pointer;\n",
              "        max-height: 100px;\n",
              "      }\n",
              "    </style>\n",
              "    <pre style=\"white-space: initial; background:\n",
              "         var(--colab-secondary-surface-color); padding: 8px 12px;\n",
              "         border-bottom: 1px solid var(--colab-border-color);\"><b>pyspark.sql.session.SparkSession.stop</b><br/>def stop() -&gt; None</pre><pre class=\"function-repr-contents function-repr-contents-collapsed\" style=\"\"><a class=\"filepath\" style=\"display:none\" href=\"#\">/usr/local/lib/python3.10/dist-packages/pyspark/sql/session.py</a>Stop the underlying :class:`SparkContext`.\n",
              "\n",
              ".. versionadded:: 2.0.0\n",
              "\n",
              ".. versionchanged:: 3.4.0\n",
              "    Supports Spark Connect.\n",
              "\n",
              "Examples\n",
              "--------\n",
              "&gt;&gt;&gt; spark.stop()  # doctest: +SKIP</pre>\n",
              "      <script>\n",
              "      if (google.colab.kernel.accessAllowed && google.colab.files && google.colab.files.view) {\n",
              "        for (const element of document.querySelectorAll('.filepath')) {\n",
              "          element.style.display = 'block'\n",
              "          element.onclick = (event) => {\n",
              "            event.preventDefault();\n",
              "            event.stopPropagation();\n",
              "            google.colab.files.view(element.textContent, 1781);\n",
              "          };\n",
              "        }\n",
              "      }\n",
              "      for (const element of document.querySelectorAll('.function-repr-contents')) {\n",
              "        element.onclick = (event) => {\n",
              "          event.preventDefault();\n",
              "          event.stopPropagation();\n",
              "          element.classList.toggle('function-repr-contents-collapsed');\n",
              "        };\n",
              "      }\n",
              "      </script>\n",
              "      </div>"
            ]
          },
          "metadata": {},
          "execution_count": 80
        }
      ]
    }
  ]
}